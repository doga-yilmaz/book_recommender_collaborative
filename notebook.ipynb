{
 "cells": [
  {
   "cell_type": "markdown",
   "id": "e4ca8b03",
   "metadata": {},
   "source": [
    "# Books recommender system | Collaborative based"
   ]
  },
  {
   "cell_type": "markdown",
   "id": "e187f757",
   "metadata": {},
   "source": [
    "<h1 style=\"text-align:center;background-color:powderblue;\"> I. Introduction </h1>\n",
    "\n",
    "<h2 style=\"color:blue;\">A. Definition of Recommender Systems</h2>\n",
    "\n",
    "Recommender systems, often referred to as recommendation systems, are a class of software applications and algorithms designed to provide personalized suggestions and recommendations to users. These suggestions are based on the user's historical interactions, preferences, or behavior within a specific platform or system. Recommender systems have become an integral part of our digital lives, shaping the way we discover products, content, and services.\n",
    "\n",
    "Recommender systems employ a variety of techniques, including collaborative filtering, content-based filtering, and hybrid methods. These algorithms analyze vast amounts of data to predict what items or content a user may be interested in, thereby enhancing the user experience and driving engagement.\n",
    "\n",
    "\n",
    "<h2 style=\"color:blue;\">B. Importance of Recommender Systems</h2>\n",
    "\n",
    "The significance of recommender systems in today's digital landscape cannot be overstated. They play a pivotal role in a wide range of industries and applications, offering several key benefits:\n",
    "\n",
    "1. Enhanced User Experience\n",
    "Recommender systems enhance user experiences by providing tailored recommendations that match individual preferences. Whether it's suggesting movies on a streaming platform, products on an e-commerce site, or connections on social media, these systems make users' interactions more enjoyable and relevant.\n",
    "2. Increased Engagement\n",
    "By surfacing content or products that align with users' interests, recommender systems keep users engaged and coming back for more. Higher engagement often leads to increased usage and loyalty.>\n",
    "3. Boosted Sales and Conversions\n",
    "E-commerce platforms rely on recommender systems to boost sales and conversions. By recommending products similar to what users have viewed or purchased, online retailers can increase cross-selling and upselling opportunities.\n",
    "4. Content Discovery\n",
    "In the realm of media and content consumption, recommender systems help users discover new music, movies, articles, or books. These systems introduce users to content they might not have found otherwise, broadening their horizons.\n",
    "5. Personalization\n",
    "Personalization is at the core of recommender systems. Users receive recommendations that reflect their tastes, preferences, and behaviors. This level of personalization not only benefits users but also drives business results.<br>\n",
    "\n",
    "\n",
    "<h2 style=\"color:blue;\">C. Common Applications</h2>\n",
    "\n",
    "Recommender systems are versatile and have found applications in various domains. Some of the most common applications include:\n",
    "\n",
    "1. E-commerce\n",
    "Online retailers like Amazon use recommender systems to suggest products related to users' browsing and purchase history, encouraging additional sales.\n",
    "\n",
    "2. Streaming Services\n",
    "Platforms such as Netflix and Spotify use recommender systems to recommend movies, TV shows, or music tracks based on users' viewing or listening history.\n",
    "\n",
    "3. Social Media\n",
    "Social networks employ recommendation algorithms to connect users with potential friends, groups, and content, enhancing the overall social experience.\n",
    "\n",
    "4. News and Content Aggregation\n",
    "News websites and content aggregators recommend articles, news stories, or blog posts that match a user's reading history or interests.\n",
    "\n",
    "5. Dating Apps\n",
    "Dating apps like Tinder use recommender systems to suggest potential matches based on user profiles and interactions.\n",
    "\n",
    "6. Job Search and Recruitment\n",
    "Job search websites recommend job listings that match a user's skills, experience, and job preferences.\n",
    "\n",
    "Recommender systems have become an indispensable part of modern technology, powering everything from online shopping to content discovery. They continue to evolve and adapt to meet the changing needs and expectations of users in the digital age."
   ]
  },
  {
   "cell_type": "markdown",
   "id": "dc54e2b4",
   "metadata": {},
   "source": [
    "<h1 style=\"text-align:center;background-color:powderblue;\"> II. Types of Recommender Systems </h1>\n",
    "\n",
    "Recommender systems are a diverse field, and different techniques are used to provide personalized recommendations to users. In this section, we will explore the primary types of recommender systems and their applications.\n",
    "\n",
    "\n",
    "<h2 style=\"color:blue;\">A. Content-Based Recommender Systems</h2>\n",
    "\n",
    "<h3 style=\"color:brown;\">1. Explanation of Content-Based Filtering</h3>\n",
    "\n",
    "Content-based recommender systems make recommendations based on the content attributes of items and a user profile. These systems analyze item characteristics and match them with a user's profile to generate recommendations. For example, in a movie recommendation system, content-based filtering might consider movie genres, actors, directors, and user preferences.\n",
    "\n",
    "\n",
    "<h3 style=\"color:brown;\">2. Pros and Cons</h3>\n",
    "\n",
    "**Pros:**\n",
    "\n",
    "* Recommendations are personalized and reflect a user's interests.\n",
    "* Effective for new or less popular items since they don't rely on user behavior.\n",
    "* Less susceptible to the \"cold start\" problem for new users.\n",
    "\n",
    "\n",
    "**Cons:**\n",
    "\n",
    "* Limited in discovering novel or unexpected items.\n",
    "* Recommendations are based on existing preferences and may not encourage exploration\n",
    "\n",
    "<h2 style=\"color:blue;\">B. Collaborative Filtering</h2>\n",
    "\n",
    "<h3 style=\"color:brown;\">1. Explanation of Collaborative Filtering</h3>\n",
    "Collaborative filtering is based on the idea that users who have agreed on certain issues in the past will agree on other issues in the future. It's one of the most popular recommendation techniques.\n",
    "\n",
    "<h3 style=\"color:brown;\">2. User-Based Collaborative Filtering</h3>\n",
    "\n",
    "In user-based collaborative filtering, recommendations are made by identifying users with similar preferences. If User A and User B have rated or interacted with similar items in the past, recommendations for User A are based on what User B has liked.\n",
    "\n",
    "<h3 style=\"color:brown;\">Item-Based Collaborative Filtering</h3>\n",
    "\n",
    "Item-based collaborative filtering focuses on the relationships between items. If a user has shown a preference for one item, similar items can be recommended based on the preferences of other users who liked the first item.\n",
    "\n",
    "<h3 style=\"color:brown;\">4. Pros and Cons</h3>\n",
    "\n",
    "**Pros:**\n",
    "\n",
    "* Effective in identifying unexpected recommendations.\n",
    "* Works well with sparse data.\n",
    "\n",
    "**Cons:**\n",
    "\n",
    "* Vulnerable to the \"cold start\" problem for new users.\n",
    "* May produce biased results if the user's historical interactions are limited.\n",
    "\n",
    "<h2 style=\"color:blue;\">C. Hybrid Recommender Systems</h2>\n",
    "\n",
    "<h3 style=\"color:brown;\">1. Explanation of Hybrid Recommender Systems</h3>\n",
    "\n",
    "Hybrid recommender systems combine multiple recommendation techniques to improve recommendation accuracy and mitigate the limitations of individual methods.\n",
    "\n",
    "<h3 style=\"color:brown;\">2. Combining Content-Based and Collaborative Filtering</h3>\n",
    "\n",
    "In hybrid systems, content-based and collaborative filtering methods are often combined. For example, the content-based filtering can provide initial recommendations, and collaborative filtering can refine them based on user interactions.\n",
    "\n",
    "<h3 style=\"color:brown;\">3. Pros and Cons</h3>\n",
    "\n",
    "**Pros:**\n",
    "\n",
    "* Improved recommendation accuracy and robustness.\n",
    "* Can address cold start problems more effectively.\n",
    "\n",
    "**Cons:**\n",
    "\n",
    "* Complex to implement and maintain.\n",
    "\n",
    "<h2 style=\"color:blue;\">D. Other Recommender System Techniques</h2>\n",
    "\n",
    "<h3 style=\"color:brown;\">1. Matrix Factorizations</h3>\n",
    "\n",
    "Matrix factorization techniques decompose the user-item interaction matrix into lower-dimensional matrices, making it possible to uncover latent factors that influence user preferences.\n",
    "\n",
    "<h3 style=\"color:brown;\">2. Deep Learning-Based Recommender Systems</h3>\n",
    "\n",
    "Deep learning models, such as neural collaborative filtering, leverage neural networks to capture complex patterns in user behavior and item characteristics.\n",
    "\n",
    "<h3 style=\"color:brown;\">3. Context-Aware Recommender Systemss</h3>\n",
    "\n",
    "Context-aware recommender systems take into account contextual information, such as user location, time, and device, to make recommendations more relevant.\n",
    "\n",
    "<h3 style=\"color:brown;\">4. Knowledge-Based Recommender Systems</h3>\n",
    "\n",
    "Knowledge-based systems use explicit knowledge about items, users, and preferences to make recommendations. These systems are often used in domains where domain knowledge is critical, such as healthcare and education.\n",
    "\n",
    "\n"
   ]
  },
  {
   "cell_type": "markdown",
   "id": "883988cd",
   "metadata": {},
   "source": [
    "<h1 style=\"text-align:center;background-color:powderblue;\"> III. How Recommender Systems Work</h1>\n",
    "\n",
    "Recommender systems are complex algorithms that involve several stages to provide personalized recommendations. In this section, we'll explore the initial steps of how recommender systems work, from data collection to user-item interaction representation.\n",
    "\n",
    "<h2 style=\"color:blue;\">A. Data Collection and Preprocessing</h2>\n",
    "\n",
    "<h3 style=\"color:brown;\">1. Data Collection</h3>\n",
    "\n",
    "The first crucial step in building a recommender system is data collection. Data sources may include:\n",
    "\n",
    "* **User interactions:** These can be in the form of user ratings, likes, clicks, or purchases. For example, an e-commerce platform collects data on products users have viewed and bought.\n",
    "\n",
    "* **User profiles:** Information about users, such as demographics, preferences, and historical behaviors, is valuable for understanding user preferences. Social media platforms, for instance, gather user profile data.\n",
    "\n",
    "* **Item attributes:** Information about items, such as product descriptions, genres, or tags, is necessary for content-based filtering. Movie recommendation systems, for example, require details about the movies, including genre and director.\n",
    "\n",
    "<h3 style=\"color:brown;\">2. Data Preprocessing</h3>\n",
    "\n",
    "Once the data is collected, it undergoes preprocessing to ensure it's in a suitable format for recommendation algorithms. This preprocessing includes:\n",
    "\n",
    "* **Data cleaning:** Handling missing values, outliers, and errors in the dataset to improve data quality.\n",
    "\n",
    "* **Data transformation:** Converting and encoding data into a usable format. Categorical variables may be converted into numerical representations.\n",
    "\n",
    "* **Data reduction:** Reducing dimensionality to make computations more efficient. Techniques like principal component analysis (PCA) may be applied.\n",
    "\n",
    "<h2 style=\"color:blue;\">B. User-Item Interaction Representation</h2>\n",
    "\n",
    "Recommender systems rely on a matrix that represents the interactions between users and items. This matrix typically has users as rows and items as columns, and its entries represent user interactions with items. Here are key elements of this representation:\n",
    "\n",
    "* **User-Item Matrix:** This matrix is often sparse because users don't interact with all available items. Each cell of the matrix represents a user's interaction with an item, such as a rating or purchase.\n",
    "\n",
    "* **Sparse Data Handling:** Since most entries in the matrix are missing (indicating no interaction), recommender systems need techniques to handle sparse data efficiently.\n",
    "\n",
    "* **User and Item Indices:** The matrix includes user and item indices that facilitate mapping between users, items, and matrix indices.\n",
    "\n",
    "* **Normalization:** Data normalization may be applied to the matrix to account for user biases and make recommendations more accurate.\n",
    "\n",
    "This user-item interaction matrix serves as the foundation for various recommendation algorithms, including collaborative filtering and content-based filtering.\n"
   ]
  },
  {
   "cell_type": "markdown",
   "id": "9b8c5d1b",
   "metadata": {},
   "source": [
    "<h1 style=\"text-align:center;background-color:powderblue;\"> IV. Challenges and Considerations</h1>\n",
    "\n",
    "Recommender systems are powerful tools for enhancing user experiences, but they also come with a set of challenges and considerations that need to be addressed. In this section, we'll explore some of the key challenges and considerations in building and deploying recommender systems.\n",
    "\n",
    "<h2 style=\"color:blue;\">A. Cold Start Problem</h2>\n",
    "\n",
    "The \"cold start\" problem refers to the challenge of making recommendations for new users or items. New users have limited or no interaction history, making it difficult to provide personalized recommendations. Similarly, new items lack historical data, making it challenging to understand their attributes and how they relate to user preferences.\n",
    "\n",
    "**Solutions:**\n",
    "\n",
    "* For new users, content-based recommendations can be a starting point, relying on item attributes and user demographics.\n",
    "\n",
    "* For new items, hybrid recommender systems can combine content-based and collaborative filtering to provide initial recommendations.\n",
    "\n",
    "<h2 style=\"color:blue;\">B. Scalability</h2>\n",
    "\n",
    "Scalability is a significant concern for recommender systems, especially in platforms with a large user base and extensive item catalog. As the number of users and items grows, the computational demands of recommendation algorithms increase significantly.\n",
    "\n",
    "**Solutions:**\n",
    "\n",
    "* Efficient algorithms and data structures can be implemented to speed up recommendation generation.\n",
    "\n",
    "* Distributed computing and cloud-based solutions can be used to handle large datasets and user loads.\n",
    "\n",
    "<h2 style=\"color:blue;\">C. Data Privacy and Security</h2>\n",
    "\n",
    "Recommender systems require access to user data and preferences, raising concerns about data privacy and security. Users may be apprehensive about sharing personal information, and data breaches can have severe consequences.\n",
    "\n",
    "**Solutions:**\n",
    "\n",
    "* Anonymization and data aggregation can be used to protect user identities while still providing relevant recommendations.\n",
    "\n",
    "* Compliance with data protection regulations, such as GDPR, is essential to ensure data privacy.\n",
    "\n",
    "<h2 style=\"color:blue;\">D. Diversity and Serendipity</h2>\n",
    "\n",
    "Recommender systems often face the challenge of providing diverse and serendipitous recommendations. Over-recommending popular items or content can lead to user homogenization and lack of exploration.\n",
    "\n",
    "**Solutions:**\n",
    "\n",
    "* Algorithms can incorporate diversity-aware components that encourage the recommendation of less popular or related but unexpected items.\n",
    "\n",
    "* Serendipity can be promoted by incorporating randomization or novelty factors into recommendations.\n",
    "\n",
    "<h2 style=\"color:blue;\">E. Explainability</h2>\n",
    "\n",
    "The lack of transparency in some recommendation algorithms can be a concern. Users may want to understand why a particular item was recommended to them, especially in critical domains like healthcare or finance.\n",
    "\n",
    "**Solutions:**\n",
    "\n",
    "* Explainable AI (XAI) techniques can be integrated into recommender systems to provide explanations for recommendations.\n",
    "\n",
    "* Offering users control over recommendation parameters and filters can enhance transparency."
   ]
  },
  {
   "cell_type": "markdown",
   "id": "b62312b8",
   "metadata": {},
   "source": [
    "<h1 style=\"text-align:center;background-color:powderblue;\"> V. Future Trends and Developments</h1>\n",
    "\n",
    "The field of recommender systems is dynamic and continuously evolving to meet the changing needs of users and businesses. In this section, we'll explore some of the emerging trends and developments that are shaping the future of recommender systems.\n",
    "\n",
    "<h2 style=\"color:blue;\">A. Personalization</h2>\n",
    "\n",
    "Personalization remains a key focus in the future of recommender systems. As user expectations for tailored recommendations continue to rise, recommender systems are expected to become even more sophisticated in understanding and predicting individual preferences. Key trends in personalization include:\n",
    "\n",
    "* **Hyper-Personalization:** Recommender systems will move beyond general preferences to consider users' current contexts and needs, such as location, time of day, and device.\n",
    "\n",
    "* **Privacy-Preserving Personalization:** With growing concerns about data privacy, recommender systems will adopt privacy-preserving techniques that enable personalization while respecting user privacy.\n",
    "\n",
    "<h2 style=\"color:blue;\">B. AI and Deep Learning</h2>\n",
    "\n",
    "Artificial intelligence (AI) and deep learning are expected to play an increasingly significant role in the future of recommender systems. These technologies offer the potential to model complex user behaviors and item characteristics more accurately. Future trends in this area include:\n",
    "\n",
    "* **Neural Recommender Systems:** The use of neural networks and deep learning will become more prevalent in capturing intricate user-item interactions.\n",
    "\n",
    "* **Explainable AI (XAI):** As AI-driven recommender systems become more complex, the need for transparent and explainable AI will grow. XAI techniques will be integrated to provide users with insight into recommendation rationale.\n",
    "\n",
    "<h2 style=\"color:blue;\">C. Ethics and Fairness</h2>\n",
    "\n",
    "Ethical considerations in recommender systems are gaining prominence. Future developments will prioritize fairness, transparency, and accountability. Key trends include:\n",
    "\n",
    "* **Algorithmic Fairness:** To mitigate biases in recommendations, recommender systems will incorporate fairness-aware algorithms and perform regular audits for bias detection.\n",
    "\n",
    "* **User Control:** Users will have more control over their recommendations, enabling them to customize and fine-tune their preferences.\n",
    "\n",
    "<h2 style=\"color:blue;\">D. Cross-Domain Recommendations</h2>\n",
    "\n",
    "Cross-domain recommendations involve extending recommendations beyond a single platform or domain. This trend will enable users to receive personalized recommendations that span different areas of interest. Future developments include:\n",
    "\n",
    "* **Cross-Platform Recommendations:** Recommender systems will provide recommendations that bridge various digital platforms, allowing users to seamlessly discover content or products across different services.\n",
    "\n",
    "* **Multimodal Recommendations:** Systems will leverage different types of data, such as text, images, and audio, to provide richer and more diverse recommendations.\n",
    "\n",
    "<h2 style=\"color:blue;\">E. Reinforcement Learning in Recommender Systems</h2>\n",
    "\n",
    "Reinforcement learning, a subset of machine learning, will play a more significant role in improving the recommendations made by these systems. Future trends include:\n",
    "\n",
    "* **Exploration-Exploitation Balance:** Recommender systems will employ reinforcement learning to strike a balance between exploring new items and exploiting known preferences.\n",
    "\n",
    "* **Dynamic Personalization:** These systems will adapt in real-time to users' evolving preferences and changing contexts.\n"
   ]
  },
  {
   "cell_type": "code",
   "execution_count": null,
   "id": "1004a627",
   "metadata": {},
   "outputs": [],
   "source": []
  },
  {
   "cell_type": "code",
   "execution_count": 226,
   "id": "cd4948ae",
   "metadata": {},
   "outputs": [],
   "source": [
    "import pandas as pd\n",
    "import numpy as np\n",
    "import matplotlib.pyplot as plt\n",
    "import seaborn as sns\n",
    "from scipy.sparse import csr_matrix\n",
    "from sklearn.neighbors import NearestNeighbors\n",
    "import pickle \n",
    "import os"
   ]
  },
  {
   "cell_type": "markdown",
   "id": "d9ac5130",
   "metadata": {},
   "source": [
    "## Loading and examining `Books` dataset"
   ]
  },
  {
   "cell_type": "code",
   "execution_count": 227,
   "id": "895893fd",
   "metadata": {},
   "outputs": [
    {
     "name": "stderr",
     "output_type": "stream",
     "text": [
      "C:\\Users\\penbe\\AppData\\Local\\Temp\\ipykernel_12152\\3174128674.py:6: DtypeWarning: Columns (3) have mixed types. Specify dtype option on import or set low_memory=False.\n",
      "  books = pd.read_csv('data/BX-Books.csv', sep=\";\", on_bad_lines='skip', encoding='latin-1')\n"
     ]
    }
   ],
   "source": [
    "# Load the Books dataset\n",
    "'''\n",
    "This dataset has some issues, as it's not separated with commas but semicolons.\n",
    "We use \"sep=\" parameter to handle this issue. We also skip lines with errors using \"on_bad_lines\".\n",
    "'''\n",
    "books = pd.read_csv('data/BX-Books.csv', sep=\";\", on_bad_lines='skip', encoding='latin-1')\n"
   ]
  },
  {
   "cell_type": "code",
   "execution_count": 228,
   "id": "e0cc1f23",
   "metadata": {},
   "outputs": [
    {
     "data": {
      "text/html": [
       "<div>\n",
       "<style scoped>\n",
       "    .dataframe tbody tr th:only-of-type {\n",
       "        vertical-align: middle;\n",
       "    }\n",
       "\n",
       "    .dataframe tbody tr th {\n",
       "        vertical-align: top;\n",
       "    }\n",
       "\n",
       "    .dataframe thead th {\n",
       "        text-align: right;\n",
       "    }\n",
       "</style>\n",
       "<table border=\"1\" class=\"dataframe\">\n",
       "  <thead>\n",
       "    <tr style=\"text-align: right;\">\n",
       "      <th></th>\n",
       "      <th>ISBN</th>\n",
       "      <th>Book-Title</th>\n",
       "      <th>Book-Author</th>\n",
       "      <th>Year-Of-Publication</th>\n",
       "      <th>Publisher</th>\n",
       "      <th>Image-URL-S</th>\n",
       "      <th>Image-URL-M</th>\n",
       "      <th>Image-URL-L</th>\n",
       "    </tr>\n",
       "  </thead>\n",
       "  <tbody>\n",
       "    <tr>\n",
       "      <th>0</th>\n",
       "      <td>0195153448</td>\n",
       "      <td>Classical Mythology</td>\n",
       "      <td>Mark P. O. Morford</td>\n",
       "      <td>2002</td>\n",
       "      <td>Oxford University Press</td>\n",
       "      <td>http://images.amazon.com/images/P/0195153448.0...</td>\n",
       "      <td>http://images.amazon.com/images/P/0195153448.0...</td>\n",
       "      <td>http://images.amazon.com/images/P/0195153448.0...</td>\n",
       "    </tr>\n",
       "    <tr>\n",
       "      <th>1</th>\n",
       "      <td>0002005018</td>\n",
       "      <td>Clara Callan</td>\n",
       "      <td>Richard Bruce Wright</td>\n",
       "      <td>2001</td>\n",
       "      <td>HarperFlamingo Canada</td>\n",
       "      <td>http://images.amazon.com/images/P/0002005018.0...</td>\n",
       "      <td>http://images.amazon.com/images/P/0002005018.0...</td>\n",
       "      <td>http://images.amazon.com/images/P/0002005018.0...</td>\n",
       "    </tr>\n",
       "    <tr>\n",
       "      <th>2</th>\n",
       "      <td>0060973129</td>\n",
       "      <td>Decision in Normandy</td>\n",
       "      <td>Carlo D'Este</td>\n",
       "      <td>1991</td>\n",
       "      <td>HarperPerennial</td>\n",
       "      <td>http://images.amazon.com/images/P/0060973129.0...</td>\n",
       "      <td>http://images.amazon.com/images/P/0060973129.0...</td>\n",
       "      <td>http://images.amazon.com/images/P/0060973129.0...</td>\n",
       "    </tr>\n",
       "    <tr>\n",
       "      <th>3</th>\n",
       "      <td>0374157065</td>\n",
       "      <td>Flu: The Story of the Great Influenza Pandemic...</td>\n",
       "      <td>Gina Bari Kolata</td>\n",
       "      <td>1999</td>\n",
       "      <td>Farrar Straus Giroux</td>\n",
       "      <td>http://images.amazon.com/images/P/0374157065.0...</td>\n",
       "      <td>http://images.amazon.com/images/P/0374157065.0...</td>\n",
       "      <td>http://images.amazon.com/images/P/0374157065.0...</td>\n",
       "    </tr>\n",
       "    <tr>\n",
       "      <th>4</th>\n",
       "      <td>0393045218</td>\n",
       "      <td>The Mummies of Urumchi</td>\n",
       "      <td>E. J. W. Barber</td>\n",
       "      <td>1999</td>\n",
       "      <td>W. W. Norton &amp;amp; Company</td>\n",
       "      <td>http://images.amazon.com/images/P/0393045218.0...</td>\n",
       "      <td>http://images.amazon.com/images/P/0393045218.0...</td>\n",
       "      <td>http://images.amazon.com/images/P/0393045218.0...</td>\n",
       "    </tr>\n",
       "  </tbody>\n",
       "</table>\n",
       "</div>"
      ],
      "text/plain": [
       "         ISBN                                         Book-Title  \\\n",
       "0  0195153448                                Classical Mythology   \n",
       "1  0002005018                                       Clara Callan   \n",
       "2  0060973129                               Decision in Normandy   \n",
       "3  0374157065  Flu: The Story of the Great Influenza Pandemic...   \n",
       "4  0393045218                             The Mummies of Urumchi   \n",
       "\n",
       "            Book-Author Year-Of-Publication                   Publisher  \\\n",
       "0    Mark P. O. Morford                2002     Oxford University Press   \n",
       "1  Richard Bruce Wright                2001       HarperFlamingo Canada   \n",
       "2          Carlo D'Este                1991             HarperPerennial   \n",
       "3      Gina Bari Kolata                1999        Farrar Straus Giroux   \n",
       "4       E. J. W. Barber                1999  W. W. Norton &amp; Company   \n",
       "\n",
       "                                         Image-URL-S  \\\n",
       "0  http://images.amazon.com/images/P/0195153448.0...   \n",
       "1  http://images.amazon.com/images/P/0002005018.0...   \n",
       "2  http://images.amazon.com/images/P/0060973129.0...   \n",
       "3  http://images.amazon.com/images/P/0374157065.0...   \n",
       "4  http://images.amazon.com/images/P/0393045218.0...   \n",
       "\n",
       "                                         Image-URL-M  \\\n",
       "0  http://images.amazon.com/images/P/0195153448.0...   \n",
       "1  http://images.amazon.com/images/P/0002005018.0...   \n",
       "2  http://images.amazon.com/images/P/0060973129.0...   \n",
       "3  http://images.amazon.com/images/P/0374157065.0...   \n",
       "4  http://images.amazon.com/images/P/0393045218.0...   \n",
       "\n",
       "                                         Image-URL-L  \n",
       "0  http://images.amazon.com/images/P/0195153448.0...  \n",
       "1  http://images.amazon.com/images/P/0002005018.0...  \n",
       "2  http://images.amazon.com/images/P/0060973129.0...  \n",
       "3  http://images.amazon.com/images/P/0374157065.0...  \n",
       "4  http://images.amazon.com/images/P/0393045218.0...  "
      ]
     },
     "execution_count": 228,
     "metadata": {},
     "output_type": "execute_result"
    }
   ],
   "source": [
    "books.head()"
   ]
  },
  {
   "cell_type": "code",
   "execution_count": 229,
   "id": "376dfaaf",
   "metadata": {},
   "outputs": [
    {
     "data": {
      "text/plain": [
       "(271360, 8)"
      ]
     },
     "execution_count": 229,
     "metadata": {},
     "output_type": "execute_result"
    }
   ],
   "source": [
    "# Display the shape of the Books dataset\n",
    "books.shape"
   ]
  },
  {
   "cell_type": "code",
   "execution_count": 230,
   "id": "1c930836",
   "metadata": {},
   "outputs": [
    {
     "data": {
      "text/plain": [
       "Index(['ISBN', 'Book-Title', 'Book-Author', 'Year-Of-Publication', 'Publisher',\n",
       "       'Image-URL-S', 'Image-URL-M', 'Image-URL-L'],\n",
       "      dtype='object')"
      ]
     },
     "execution_count": 230,
     "metadata": {},
     "output_type": "execute_result"
    }
   ],
   "source": [
    "# Display the columns of the Books dataset\n",
    "books.columns"
   ]
  },
  {
   "cell_type": "code",
   "execution_count": 231,
   "id": "d9e6f999",
   "metadata": {},
   "outputs": [],
   "source": [
    "# Remove unnecessary columns 'Image-URL-S' and 'Image-URL-M'\n",
    "columns_to_drop = ['Image-URL-S', 'Image-URL-M']\n",
    "books = books.drop(columns=columns_to_drop)"
   ]
  },
  {
   "cell_type": "code",
   "execution_count": 232,
   "id": "2d5d0746",
   "metadata": {},
   "outputs": [],
   "source": [
    "# Rename columns for clarity\n",
    "books.rename(columns={\n",
    "    \"Book-Title\": \"title\",\n",
    "    \"Book-Author\": \"author\",\n",
    "    \"Year-Of-Publication\": \"year\",\n",
    "    \"Publisher\": \"publisher\",\n",
    "    \"Image-URL-L\": \"img_url\"\n",
    "}, inplace=True)"
   ]
  },
  {
   "cell_type": "code",
   "execution_count": 233,
   "id": "ffa163e1",
   "metadata": {
    "scrolled": true
   },
   "outputs": [
    {
     "data": {
      "text/html": [
       "<div>\n",
       "<style scoped>\n",
       "    .dataframe tbody tr th:only-of-type {\n",
       "        vertical-align: middle;\n",
       "    }\n",
       "\n",
       "    .dataframe tbody tr th {\n",
       "        vertical-align: top;\n",
       "    }\n",
       "\n",
       "    .dataframe thead th {\n",
       "        text-align: right;\n",
       "    }\n",
       "</style>\n",
       "<table border=\"1\" class=\"dataframe\">\n",
       "  <thead>\n",
       "    <tr style=\"text-align: right;\">\n",
       "      <th></th>\n",
       "      <th>ISBN</th>\n",
       "      <th>title</th>\n",
       "      <th>author</th>\n",
       "      <th>year</th>\n",
       "      <th>publisher</th>\n",
       "      <th>img_url</th>\n",
       "    </tr>\n",
       "  </thead>\n",
       "  <tbody>\n",
       "    <tr>\n",
       "      <th>0</th>\n",
       "      <td>0195153448</td>\n",
       "      <td>Classical Mythology</td>\n",
       "      <td>Mark P. O. Morford</td>\n",
       "      <td>2002</td>\n",
       "      <td>Oxford University Press</td>\n",
       "      <td>http://images.amazon.com/images/P/0195153448.0...</td>\n",
       "    </tr>\n",
       "    <tr>\n",
       "      <th>1</th>\n",
       "      <td>0002005018</td>\n",
       "      <td>Clara Callan</td>\n",
       "      <td>Richard Bruce Wright</td>\n",
       "      <td>2001</td>\n",
       "      <td>HarperFlamingo Canada</td>\n",
       "      <td>http://images.amazon.com/images/P/0002005018.0...</td>\n",
       "    </tr>\n",
       "  </tbody>\n",
       "</table>\n",
       "</div>"
      ],
      "text/plain": [
       "         ISBN                title                author  year  \\\n",
       "0  0195153448  Classical Mythology    Mark P. O. Morford  2002   \n",
       "1  0002005018         Clara Callan  Richard Bruce Wright  2001   \n",
       "\n",
       "                 publisher                                            img_url  \n",
       "0  Oxford University Press  http://images.amazon.com/images/P/0195153448.0...  \n",
       "1    HarperFlamingo Canada  http://images.amazon.com/images/P/0002005018.0...  "
      ]
     },
     "execution_count": 233,
     "metadata": {},
     "output_type": "execute_result"
    }
   ],
   "source": [
    "books.head(2)"
   ]
  },
  {
   "cell_type": "markdown",
   "id": "baa53842",
   "metadata": {},
   "source": [
    "## Loading examining `Users` dataset"
   ]
  },
  {
   "cell_type": "code",
   "execution_count": 234,
   "id": "955f6610",
   "metadata": {},
   "outputs": [],
   "source": [
    "# Load the Users dataset\n",
    "users = pd.read_csv('data/BX-Users.csv', sep=\";\", on_bad_lines='skip', encoding='latin-1')"
   ]
  },
  {
   "cell_type": "code",
   "execution_count": 235,
   "id": "c0911e02",
   "metadata": {},
   "outputs": [
    {
     "data": {
      "text/html": [
       "<div>\n",
       "<style scoped>\n",
       "    .dataframe tbody tr th:only-of-type {\n",
       "        vertical-align: middle;\n",
       "    }\n",
       "\n",
       "    .dataframe tbody tr th {\n",
       "        vertical-align: top;\n",
       "    }\n",
       "\n",
       "    .dataframe thead th {\n",
       "        text-align: right;\n",
       "    }\n",
       "</style>\n",
       "<table border=\"1\" class=\"dataframe\">\n",
       "  <thead>\n",
       "    <tr style=\"text-align: right;\">\n",
       "      <th></th>\n",
       "      <th>User-ID</th>\n",
       "      <th>Location</th>\n",
       "      <th>Age</th>\n",
       "    </tr>\n",
       "  </thead>\n",
       "  <tbody>\n",
       "    <tr>\n",
       "      <th>0</th>\n",
       "      <td>1</td>\n",
       "      <td>nyc, new york, usa</td>\n",
       "      <td>NaN</td>\n",
       "    </tr>\n",
       "    <tr>\n",
       "      <th>1</th>\n",
       "      <td>2</td>\n",
       "      <td>stockton, california, usa</td>\n",
       "      <td>18.0</td>\n",
       "    </tr>\n",
       "  </tbody>\n",
       "</table>\n",
       "</div>"
      ],
      "text/plain": [
       "   User-ID                   Location   Age\n",
       "0        1         nyc, new york, usa   NaN\n",
       "1        2  stockton, california, usa  18.0"
      ]
     },
     "execution_count": 235,
     "metadata": {},
     "output_type": "execute_result"
    }
   ],
   "source": [
    "users.head(2)"
   ]
  },
  {
   "cell_type": "code",
   "execution_count": 236,
   "id": "7d32a99e",
   "metadata": {},
   "outputs": [
    {
     "data": {
      "text/plain": [
       "(278858, 3)"
      ]
     },
     "execution_count": 236,
     "metadata": {},
     "output_type": "execute_result"
    }
   ],
   "source": [
    "# Display the shape of the Users dataset\n",
    "users.shape # Notice that data shapes are not same with the `books` dataset"
   ]
  },
  {
   "cell_type": "code",
   "execution_count": 237,
   "id": "2b215c4c",
   "metadata": {},
   "outputs": [],
   "source": [
    "# Rename columns for clarity\n",
    "users.rename(columns={\n",
    "    \"User-ID\": \"user_id\",\n",
    "    \"Location\": \"location\",\n",
    "    \"Age\": \"age\"\n",
    "}, inplace=True)"
   ]
  },
  {
   "cell_type": "code",
   "execution_count": 238,
   "id": "f7d92b5d",
   "metadata": {
    "scrolled": true
   },
   "outputs": [
    {
     "data": {
      "text/html": [
       "<div>\n",
       "<style scoped>\n",
       "    .dataframe tbody tr th:only-of-type {\n",
       "        vertical-align: middle;\n",
       "    }\n",
       "\n",
       "    .dataframe tbody tr th {\n",
       "        vertical-align: top;\n",
       "    }\n",
       "\n",
       "    .dataframe thead th {\n",
       "        text-align: right;\n",
       "    }\n",
       "</style>\n",
       "<table border=\"1\" class=\"dataframe\">\n",
       "  <thead>\n",
       "    <tr style=\"text-align: right;\">\n",
       "      <th></th>\n",
       "      <th>user_id</th>\n",
       "      <th>location</th>\n",
       "      <th>age</th>\n",
       "    </tr>\n",
       "  </thead>\n",
       "  <tbody>\n",
       "    <tr>\n",
       "      <th>0</th>\n",
       "      <td>1</td>\n",
       "      <td>nyc, new york, usa</td>\n",
       "      <td>NaN</td>\n",
       "    </tr>\n",
       "    <tr>\n",
       "      <th>1</th>\n",
       "      <td>2</td>\n",
       "      <td>stockton, california, usa</td>\n",
       "      <td>18.0</td>\n",
       "    </tr>\n",
       "  </tbody>\n",
       "</table>\n",
       "</div>"
      ],
      "text/plain": [
       "   user_id                   location   age\n",
       "0        1         nyc, new york, usa   NaN\n",
       "1        2  stockton, california, usa  18.0"
      ]
     },
     "execution_count": 238,
     "metadata": {},
     "output_type": "execute_result"
    }
   ],
   "source": [
    "# Display the first two rows of the Users dataset after renaming\n",
    "users.head(2)"
   ]
  },
  {
   "cell_type": "markdown",
   "id": "e07ef1ff",
   "metadata": {},
   "source": [
    "## Loading and examining `Book Ratings` dataset"
   ]
  },
  {
   "cell_type": "code",
   "execution_count": 239,
   "id": "6f951651",
   "metadata": {},
   "outputs": [],
   "source": [
    "# Load the Book Ratings dataset\n",
    "ratings = pd.read_csv('data/BX-Book-Ratings.csv', sep=\";\", on_bad_lines='skip', encoding='latin-1')"
   ]
  },
  {
   "cell_type": "code",
   "execution_count": 240,
   "id": "b9d3a1ba",
   "metadata": {},
   "outputs": [
    {
     "data": {
      "text/html": [
       "<div>\n",
       "<style scoped>\n",
       "    .dataframe tbody tr th:only-of-type {\n",
       "        vertical-align: middle;\n",
       "    }\n",
       "\n",
       "    .dataframe tbody tr th {\n",
       "        vertical-align: top;\n",
       "    }\n",
       "\n",
       "    .dataframe thead th {\n",
       "        text-align: right;\n",
       "    }\n",
       "</style>\n",
       "<table border=\"1\" class=\"dataframe\">\n",
       "  <thead>\n",
       "    <tr style=\"text-align: right;\">\n",
       "      <th></th>\n",
       "      <th>User-ID</th>\n",
       "      <th>ISBN</th>\n",
       "      <th>Book-Rating</th>\n",
       "    </tr>\n",
       "  </thead>\n",
       "  <tbody>\n",
       "    <tr>\n",
       "      <th>0</th>\n",
       "      <td>276725</td>\n",
       "      <td>034545104X</td>\n",
       "      <td>0</td>\n",
       "    </tr>\n",
       "    <tr>\n",
       "      <th>1</th>\n",
       "      <td>276726</td>\n",
       "      <td>0155061224</td>\n",
       "      <td>5</td>\n",
       "    </tr>\n",
       "  </tbody>\n",
       "</table>\n",
       "</div>"
      ],
      "text/plain": [
       "   User-ID        ISBN  Book-Rating\n",
       "0   276725  034545104X            0\n",
       "1   276726  0155061224            5"
      ]
     },
     "execution_count": 240,
     "metadata": {},
     "output_type": "execute_result"
    }
   ],
   "source": [
    "# Display the first two rows of the Book Ratings dataset\n",
    "ratings.head(2)"
   ]
  },
  {
   "cell_type": "code",
   "execution_count": 241,
   "id": "9973f310",
   "metadata": {},
   "outputs": [
    {
     "data": {
      "text/plain": [
       "(1149780, 3)"
      ]
     },
     "execution_count": 241,
     "metadata": {},
     "output_type": "execute_result"
    }
   ],
   "source": [
    "ratings.shape # All the dataframes has different shapes (as expected)"
   ]
  },
  {
   "cell_type": "code",
   "execution_count": 242,
   "id": "1bccd61a",
   "metadata": {},
   "outputs": [],
   "source": [
    "# Rename columns for clarity\n",
    "ratings.rename(columns={\n",
    "    \"User-ID\": \"user_id\",\n",
    "    \"Book-Rating\": \"rating\"\n",
    "}, inplace=True)"
   ]
  },
  {
   "cell_type": "code",
   "execution_count": 243,
   "id": "c605b4f8",
   "metadata": {},
   "outputs": [
    {
     "data": {
      "text/html": [
       "<div>\n",
       "<style scoped>\n",
       "    .dataframe tbody tr th:only-of-type {\n",
       "        vertical-align: middle;\n",
       "    }\n",
       "\n",
       "    .dataframe tbody tr th {\n",
       "        vertical-align: top;\n",
       "    }\n",
       "\n",
       "    .dataframe thead th {\n",
       "        text-align: right;\n",
       "    }\n",
       "</style>\n",
       "<table border=\"1\" class=\"dataframe\">\n",
       "  <thead>\n",
       "    <tr style=\"text-align: right;\">\n",
       "      <th></th>\n",
       "      <th>user_id</th>\n",
       "      <th>ISBN</th>\n",
       "      <th>rating</th>\n",
       "    </tr>\n",
       "  </thead>\n",
       "  <tbody>\n",
       "    <tr>\n",
       "      <th>0</th>\n",
       "      <td>276725</td>\n",
       "      <td>034545104X</td>\n",
       "      <td>0</td>\n",
       "    </tr>\n",
       "    <tr>\n",
       "      <th>1</th>\n",
       "      <td>276726</td>\n",
       "      <td>0155061224</td>\n",
       "      <td>5</td>\n",
       "    </tr>\n",
       "  </tbody>\n",
       "</table>\n",
       "</div>"
      ],
      "text/plain": [
       "   user_id        ISBN  rating\n",
       "0   276725  034545104X       0\n",
       "1   276726  0155061224       5"
      ]
     },
     "execution_count": 243,
     "metadata": {},
     "output_type": "execute_result"
    }
   ],
   "source": [
    "# Display the first two rows of the Book Ratings dataset after renaming\n",
    "ratings.head(2)"
   ]
  },
  {
   "cell_type": "code",
   "execution_count": 244,
   "id": "c702063c",
   "metadata": {},
   "outputs": [
    {
     "data": {
      "text/plain": [
       "user_id\n",
       "11676     13602\n",
       "198711     7550\n",
       "153662     6109\n",
       "98391      5891\n",
       "35859      5850\n",
       "          ...  \n",
       "116180        1\n",
       "116166        1\n",
       "116154        1\n",
       "116137        1\n",
       "276723        1\n",
       "Name: count, Length: 105283, dtype: int64"
      ]
     },
     "execution_count": 244,
     "metadata": {},
     "output_type": "execute_result"
    }
   ],
   "source": [
    "# Count the number of ratings for each user\n",
    "ratings['user_id'].value_counts()"
   ]
  },
  {
   "cell_type": "code",
   "execution_count": 245,
   "id": "2936bed2",
   "metadata": {
    "scrolled": true
   },
   "outputs": [
    {
     "data": {
      "text/plain": [
       "(105283,)"
      ]
     },
     "execution_count": 245,
     "metadata": {},
     "output_type": "execute_result"
    }
   ],
   "source": [
    "# Count the number of unique users\n",
    "ratings['user_id'].unique().shape"
   ]
  },
  {
   "cell_type": "markdown",
   "id": "aac311aa",
   "metadata": {},
   "source": [
    "## Creating the `Final` dataframe"
   ]
  },
  {
   "cell_type": "code",
   "execution_count": 246,
   "id": "650f6f95",
   "metadata": {},
   "outputs": [],
   "source": [
    "# Filter out users with more than 200 ratings\n",
    "x = ratings['user_id'].value_counts() > 200"
   ]
  },
  {
   "cell_type": "code",
   "execution_count": 247,
   "id": "0b0a9d57",
   "metadata": {},
   "outputs": [
    {
     "data": {
      "text/plain": [
       "899"
      ]
     },
     "execution_count": 247,
     "metadata": {},
     "output_type": "execute_result"
    }
   ],
   "source": [
    "# Count the number of users with more than 200 ratings\n",
    "x.sum()"
   ]
  },
  {
   "cell_type": "code",
   "execution_count": 248,
   "id": "fff2eca4",
   "metadata": {},
   "outputs": [],
   "source": [
    "# Get the user IDs with more than 200 ratings\n",
    "y = x[x].index"
   ]
  },
  {
   "cell_type": "code",
   "execution_count": 249,
   "id": "328e697e",
   "metadata": {},
   "outputs": [],
   "source": [
    "# Filter the ratings dataset to include only users with more than 200 ratings\n",
    "ratings = ratings[ratings['user_id'].isin(y)]"
   ]
  },
  {
   "cell_type": "code",
   "execution_count": 250,
   "id": "8a1eaa04",
   "metadata": {},
   "outputs": [
    {
     "data": {
      "text/html": [
       "<div>\n",
       "<style scoped>\n",
       "    .dataframe tbody tr th:only-of-type {\n",
       "        vertical-align: middle;\n",
       "    }\n",
       "\n",
       "    .dataframe tbody tr th {\n",
       "        vertical-align: top;\n",
       "    }\n",
       "\n",
       "    .dataframe thead th {\n",
       "        text-align: right;\n",
       "    }\n",
       "</style>\n",
       "<table border=\"1\" class=\"dataframe\">\n",
       "  <thead>\n",
       "    <tr style=\"text-align: right;\">\n",
       "      <th></th>\n",
       "      <th>user_id</th>\n",
       "      <th>ISBN</th>\n",
       "      <th>rating</th>\n",
       "    </tr>\n",
       "  </thead>\n",
       "  <tbody>\n",
       "    <tr>\n",
       "      <th>1456</th>\n",
       "      <td>277427</td>\n",
       "      <td>002542730X</td>\n",
       "      <td>10</td>\n",
       "    </tr>\n",
       "    <tr>\n",
       "      <th>1457</th>\n",
       "      <td>277427</td>\n",
       "      <td>0026217457</td>\n",
       "      <td>0</td>\n",
       "    </tr>\n",
       "  </tbody>\n",
       "</table>\n",
       "</div>"
      ],
      "text/plain": [
       "      user_id        ISBN  rating\n",
       "1456   277427  002542730X      10\n",
       "1457   277427  0026217457       0"
      ]
     },
     "execution_count": 250,
     "metadata": {},
     "output_type": "execute_result"
    }
   ],
   "source": [
    "# Display the first two rows of the filtered ratings dataset\n",
    "ratings.head(2)"
   ]
  },
  {
   "cell_type": "code",
   "execution_count": 251,
   "id": "86bb858f",
   "metadata": {
    "scrolled": true
   },
   "outputs": [
    {
     "data": {
      "text/plain": [
       "(526356, 3)"
      ]
     },
     "execution_count": 251,
     "metadata": {},
     "output_type": "execute_result"
    }
   ],
   "source": [
    "# Display the shape of the filtered ratings dataset\n",
    "ratings.shape"
   ]
  },
  {
   "cell_type": "code",
   "execution_count": 252,
   "id": "5b0f8b26",
   "metadata": {},
   "outputs": [],
   "source": [
    "# Merge the filtered ratings dataset with the Books dataset using the ISBN as the key\n",
    "ratings_with_books = ratings.merge(books, on=\"ISBN\")"
   ]
  },
  {
   "cell_type": "code",
   "execution_count": 253,
   "id": "2275688f",
   "metadata": {},
   "outputs": [
    {
     "data": {
      "text/html": [
       "<div>\n",
       "<style scoped>\n",
       "    .dataframe tbody tr th:only-of-type {\n",
       "        vertical-align: middle;\n",
       "    }\n",
       "\n",
       "    .dataframe tbody tr th {\n",
       "        vertical-align: top;\n",
       "    }\n",
       "\n",
       "    .dataframe thead th {\n",
       "        text-align: right;\n",
       "    }\n",
       "</style>\n",
       "<table border=\"1\" class=\"dataframe\">\n",
       "  <thead>\n",
       "    <tr style=\"text-align: right;\">\n",
       "      <th></th>\n",
       "      <th>user_id</th>\n",
       "      <th>ISBN</th>\n",
       "      <th>rating</th>\n",
       "      <th>title</th>\n",
       "      <th>author</th>\n",
       "      <th>year</th>\n",
       "      <th>publisher</th>\n",
       "      <th>img_url</th>\n",
       "    </tr>\n",
       "  </thead>\n",
       "  <tbody>\n",
       "    <tr>\n",
       "      <th>0</th>\n",
       "      <td>277427</td>\n",
       "      <td>002542730X</td>\n",
       "      <td>10</td>\n",
       "      <td>Politically Correct Bedtime Stories: Modern Ta...</td>\n",
       "      <td>James Finn Garner</td>\n",
       "      <td>1994</td>\n",
       "      <td>John Wiley &amp;amp; Sons Inc</td>\n",
       "      <td>http://images.amazon.com/images/P/002542730X.0...</td>\n",
       "    </tr>\n",
       "    <tr>\n",
       "      <th>1</th>\n",
       "      <td>3363</td>\n",
       "      <td>002542730X</td>\n",
       "      <td>0</td>\n",
       "      <td>Politically Correct Bedtime Stories: Modern Ta...</td>\n",
       "      <td>James Finn Garner</td>\n",
       "      <td>1994</td>\n",
       "      <td>John Wiley &amp;amp; Sons Inc</td>\n",
       "      <td>http://images.amazon.com/images/P/002542730X.0...</td>\n",
       "    </tr>\n",
       "    <tr>\n",
       "      <th>2</th>\n",
       "      <td>11676</td>\n",
       "      <td>002542730X</td>\n",
       "      <td>6</td>\n",
       "      <td>Politically Correct Bedtime Stories: Modern Ta...</td>\n",
       "      <td>James Finn Garner</td>\n",
       "      <td>1994</td>\n",
       "      <td>John Wiley &amp;amp; Sons Inc</td>\n",
       "      <td>http://images.amazon.com/images/P/002542730X.0...</td>\n",
       "    </tr>\n",
       "    <tr>\n",
       "      <th>3</th>\n",
       "      <td>12538</td>\n",
       "      <td>002542730X</td>\n",
       "      <td>10</td>\n",
       "      <td>Politically Correct Bedtime Stories: Modern Ta...</td>\n",
       "      <td>James Finn Garner</td>\n",
       "      <td>1994</td>\n",
       "      <td>John Wiley &amp;amp; Sons Inc</td>\n",
       "      <td>http://images.amazon.com/images/P/002542730X.0...</td>\n",
       "    </tr>\n",
       "    <tr>\n",
       "      <th>4</th>\n",
       "      <td>13552</td>\n",
       "      <td>002542730X</td>\n",
       "      <td>0</td>\n",
       "      <td>Politically Correct Bedtime Stories: Modern Ta...</td>\n",
       "      <td>James Finn Garner</td>\n",
       "      <td>1994</td>\n",
       "      <td>John Wiley &amp;amp; Sons Inc</td>\n",
       "      <td>http://images.amazon.com/images/P/002542730X.0...</td>\n",
       "    </tr>\n",
       "  </tbody>\n",
       "</table>\n",
       "</div>"
      ],
      "text/plain": [
       "   user_id        ISBN  rating  \\\n",
       "0   277427  002542730X      10   \n",
       "1     3363  002542730X       0   \n",
       "2    11676  002542730X       6   \n",
       "3    12538  002542730X      10   \n",
       "4    13552  002542730X       0   \n",
       "\n",
       "                                               title             author  year  \\\n",
       "0  Politically Correct Bedtime Stories: Modern Ta...  James Finn Garner  1994   \n",
       "1  Politically Correct Bedtime Stories: Modern Ta...  James Finn Garner  1994   \n",
       "2  Politically Correct Bedtime Stories: Modern Ta...  James Finn Garner  1994   \n",
       "3  Politically Correct Bedtime Stories: Modern Ta...  James Finn Garner  1994   \n",
       "4  Politically Correct Bedtime Stories: Modern Ta...  James Finn Garner  1994   \n",
       "\n",
       "                   publisher  \\\n",
       "0  John Wiley &amp; Sons Inc   \n",
       "1  John Wiley &amp; Sons Inc   \n",
       "2  John Wiley &amp; Sons Inc   \n",
       "3  John Wiley &amp; Sons Inc   \n",
       "4  John Wiley &amp; Sons Inc   \n",
       "\n",
       "                                             img_url  \n",
       "0  http://images.amazon.com/images/P/002542730X.0...  \n",
       "1  http://images.amazon.com/images/P/002542730X.0...  \n",
       "2  http://images.amazon.com/images/P/002542730X.0...  \n",
       "3  http://images.amazon.com/images/P/002542730X.0...  \n",
       "4  http://images.amazon.com/images/P/002542730X.0...  "
      ]
     },
     "execution_count": 253,
     "metadata": {},
     "output_type": "execute_result"
    }
   ],
   "source": [
    "# Display the first few rows of the merged dataset\n",
    "ratings_with_books.head()"
   ]
  },
  {
   "cell_type": "code",
   "execution_count": 254,
   "id": "ebd35e00",
   "metadata": {},
   "outputs": [
    {
     "data": {
      "text/plain": [
       "(487671, 8)"
      ]
     },
     "execution_count": 254,
     "metadata": {},
     "output_type": "execute_result"
    }
   ],
   "source": [
    "ratings_with_books.shape"
   ]
  },
  {
   "cell_type": "code",
   "execution_count": 255,
   "id": "c3b74e7f",
   "metadata": {},
   "outputs": [],
   "source": [
    "# Count the number of ratings for each book\n",
    "num_ratings = ratings_with_books.groupby('title')['rating'].count().reset_index()"
   ]
  },
  {
   "cell_type": "code",
   "execution_count": 256,
   "id": "a689e932",
   "metadata": {},
   "outputs": [],
   "source": [
    "# Rename the 'rating' column to 'num_of_rating'\n",
    "num_ratings.rename(columns={\"rating\": \"num_of_rating\"}, inplace=True)"
   ]
  },
  {
   "cell_type": "code",
   "execution_count": 257,
   "id": "76502b6e",
   "metadata": {},
   "outputs": [
    {
     "data": {
      "text/html": [
       "<div>\n",
       "<style scoped>\n",
       "    .dataframe tbody tr th:only-of-type {\n",
       "        vertical-align: middle;\n",
       "    }\n",
       "\n",
       "    .dataframe tbody tr th {\n",
       "        vertical-align: top;\n",
       "    }\n",
       "\n",
       "    .dataframe thead th {\n",
       "        text-align: right;\n",
       "    }\n",
       "</style>\n",
       "<table border=\"1\" class=\"dataframe\">\n",
       "  <thead>\n",
       "    <tr style=\"text-align: right;\">\n",
       "      <th></th>\n",
       "      <th>title</th>\n",
       "      <th>num_of_rating</th>\n",
       "    </tr>\n",
       "  </thead>\n",
       "  <tbody>\n",
       "    <tr>\n",
       "      <th>0</th>\n",
       "      <td>A Light in the Storm: The Civil War Diary of ...</td>\n",
       "      <td>2</td>\n",
       "    </tr>\n",
       "    <tr>\n",
       "      <th>1</th>\n",
       "      <td>Always Have Popsicles</td>\n",
       "      <td>1</td>\n",
       "    </tr>\n",
       "    <tr>\n",
       "      <th>2</th>\n",
       "      <td>Apple Magic (The Collector's series)</td>\n",
       "      <td>1</td>\n",
       "    </tr>\n",
       "    <tr>\n",
       "      <th>3</th>\n",
       "      <td>Beyond IBM: Leadership Marketing and Finance ...</td>\n",
       "      <td>1</td>\n",
       "    </tr>\n",
       "    <tr>\n",
       "      <th>4</th>\n",
       "      <td>Clifford Visita El Hospital (Clifford El Gran...</td>\n",
       "      <td>1</td>\n",
       "    </tr>\n",
       "    <tr>\n",
       "      <th>...</th>\n",
       "      <td>...</td>\n",
       "      <td>...</td>\n",
       "    </tr>\n",
       "    <tr>\n",
       "      <th>160264</th>\n",
       "      <td>Ã?Â?ber die Pflicht zum Ungehorsam gegen den S...</td>\n",
       "      <td>3</td>\n",
       "    </tr>\n",
       "    <tr>\n",
       "      <th>160265</th>\n",
       "      <td>Ã?Â?lpiraten.</td>\n",
       "      <td>1</td>\n",
       "    </tr>\n",
       "    <tr>\n",
       "      <th>160266</th>\n",
       "      <td>Ã?Â?rger mit Produkt X. Roman.</td>\n",
       "      <td>1</td>\n",
       "    </tr>\n",
       "    <tr>\n",
       "      <th>160267</th>\n",
       "      <td>Ã?Â?stlich der Berge.</td>\n",
       "      <td>1</td>\n",
       "    </tr>\n",
       "    <tr>\n",
       "      <th>160268</th>\n",
       "      <td>Ã?Â?thique en toc</td>\n",
       "      <td>1</td>\n",
       "    </tr>\n",
       "  </tbody>\n",
       "</table>\n",
       "<p>160269 rows × 2 columns</p>\n",
       "</div>"
      ],
      "text/plain": [
       "                                                    title  num_of_rating\n",
       "0        A Light in the Storm: The Civil War Diary of ...              2\n",
       "1                                   Always Have Popsicles              1\n",
       "2                    Apple Magic (The Collector's series)              1\n",
       "3        Beyond IBM: Leadership Marketing and Finance ...              1\n",
       "4        Clifford Visita El Hospital (Clifford El Gran...              1\n",
       "...                                                   ...            ...\n",
       "160264  Ã?Â?ber die Pflicht zum Ungehorsam gegen den S...              3\n",
       "160265                                      Ã?Â?lpiraten.              1\n",
       "160266                     Ã?Â?rger mit Produkt X. Roman.              1\n",
       "160267                              Ã?Â?stlich der Berge.              1\n",
       "160268                                  Ã?Â?thique en toc              1\n",
       "\n",
       "[160269 rows x 2 columns]"
      ]
     },
     "execution_count": 257,
     "metadata": {},
     "output_type": "execute_result"
    }
   ],
   "source": [
    "num_ratings"
   ]
  },
  {
   "cell_type": "code",
   "execution_count": 258,
   "id": "de059bf9",
   "metadata": {},
   "outputs": [],
   "source": [
    "# Merge the merged dataset with the number of ratings dataset using the book title as the key\n",
    "final_df = ratings_with_books.merge(num_ratings, on=\"title\")"
   ]
  },
  {
   "cell_type": "code",
   "execution_count": 259,
   "id": "7ba0ebc6",
   "metadata": {
    "scrolled": true
   },
   "outputs": [
    {
     "data": {
      "text/html": [
       "<div>\n",
       "<style scoped>\n",
       "    .dataframe tbody tr th:only-of-type {\n",
       "        vertical-align: middle;\n",
       "    }\n",
       "\n",
       "    .dataframe tbody tr th {\n",
       "        vertical-align: top;\n",
       "    }\n",
       "\n",
       "    .dataframe thead th {\n",
       "        text-align: right;\n",
       "    }\n",
       "</style>\n",
       "<table border=\"1\" class=\"dataframe\">\n",
       "  <thead>\n",
       "    <tr style=\"text-align: right;\">\n",
       "      <th></th>\n",
       "      <th>user_id</th>\n",
       "      <th>ISBN</th>\n",
       "      <th>rating</th>\n",
       "      <th>title</th>\n",
       "      <th>author</th>\n",
       "      <th>year</th>\n",
       "      <th>publisher</th>\n",
       "      <th>img_url</th>\n",
       "      <th>num_of_rating</th>\n",
       "    </tr>\n",
       "  </thead>\n",
       "  <tbody>\n",
       "    <tr>\n",
       "      <th>0</th>\n",
       "      <td>277427</td>\n",
       "      <td>002542730X</td>\n",
       "      <td>10</td>\n",
       "      <td>Politically Correct Bedtime Stories: Modern Ta...</td>\n",
       "      <td>James Finn Garner</td>\n",
       "      <td>1994</td>\n",
       "      <td>John Wiley &amp;amp; Sons Inc</td>\n",
       "      <td>http://images.amazon.com/images/P/002542730X.0...</td>\n",
       "      <td>82</td>\n",
       "    </tr>\n",
       "    <tr>\n",
       "      <th>1</th>\n",
       "      <td>3363</td>\n",
       "      <td>002542730X</td>\n",
       "      <td>0</td>\n",
       "      <td>Politically Correct Bedtime Stories: Modern Ta...</td>\n",
       "      <td>James Finn Garner</td>\n",
       "      <td>1994</td>\n",
       "      <td>John Wiley &amp;amp; Sons Inc</td>\n",
       "      <td>http://images.amazon.com/images/P/002542730X.0...</td>\n",
       "      <td>82</td>\n",
       "    </tr>\n",
       "  </tbody>\n",
       "</table>\n",
       "</div>"
      ],
      "text/plain": [
       "   user_id        ISBN  rating  \\\n",
       "0   277427  002542730X      10   \n",
       "1     3363  002542730X       0   \n",
       "\n",
       "                                               title             author  year  \\\n",
       "0  Politically Correct Bedtime Stories: Modern Ta...  James Finn Garner  1994   \n",
       "1  Politically Correct Bedtime Stories: Modern Ta...  James Finn Garner  1994   \n",
       "\n",
       "                   publisher  \\\n",
       "0  John Wiley &amp; Sons Inc   \n",
       "1  John Wiley &amp; Sons Inc   \n",
       "\n",
       "                                             img_url  num_of_rating  \n",
       "0  http://images.amazon.com/images/P/002542730X.0...             82  \n",
       "1  http://images.amazon.com/images/P/002542730X.0...             82  "
      ]
     },
     "execution_count": 259,
     "metadata": {},
     "output_type": "execute_result"
    }
   ],
   "source": [
    "# Display the first two rows of the final dataset\n",
    "final_df.head(2)"
   ]
  },
  {
   "cell_type": "code",
   "execution_count": 260,
   "id": "d8edb5a3",
   "metadata": {},
   "outputs": [
    {
     "data": {
      "text/plain": [
       "(487671, 9)"
      ]
     },
     "execution_count": 260,
     "metadata": {},
     "output_type": "execute_result"
    }
   ],
   "source": [
    "# Display the shape and information of the final dataset\n",
    "final_df.shape"
   ]
  },
  {
   "cell_type": "code",
   "execution_count": 261,
   "id": "da781a4f",
   "metadata": {},
   "outputs": [
    {
     "name": "stdout",
     "output_type": "stream",
     "text": [
      "<class 'pandas.core.frame.DataFrame'>\n",
      "RangeIndex: 487671 entries, 0 to 487670\n",
      "Data columns (total 9 columns):\n",
      " #   Column         Non-Null Count   Dtype \n",
      "---  ------         --------------   ----- \n",
      " 0   user_id        487671 non-null  int64 \n",
      " 1   ISBN           487671 non-null  object\n",
      " 2   rating         487671 non-null  int64 \n",
      " 3   title          487671 non-null  object\n",
      " 4   author         487670 non-null  object\n",
      " 5   year           487671 non-null  object\n",
      " 6   publisher      487669 non-null  object\n",
      " 7   img_url        487668 non-null  object\n",
      " 8   num_of_rating  487671 non-null  int64 \n",
      "dtypes: int64(3), object(6)\n",
      "memory usage: 33.5+ MB\n"
     ]
    }
   ],
   "source": [
    "final_df.info()"
   ]
  },
  {
   "cell_type": "code",
   "execution_count": 262,
   "id": "12c27c7e",
   "metadata": {},
   "outputs": [],
   "source": [
    "# Filter books with more than 50 ratings\n",
    "final_df = final_df[final_df['num_of_rating'] >= 50]"
   ]
  },
  {
   "cell_type": "code",
   "execution_count": 263,
   "id": "0d3871a3",
   "metadata": {},
   "outputs": [
    {
     "data": {
      "text/html": [
       "<div>\n",
       "<style scoped>\n",
       "    .dataframe tbody tr th:only-of-type {\n",
       "        vertical-align: middle;\n",
       "    }\n",
       "\n",
       "    .dataframe tbody tr th {\n",
       "        vertical-align: top;\n",
       "    }\n",
       "\n",
       "    .dataframe thead th {\n",
       "        text-align: right;\n",
       "    }\n",
       "</style>\n",
       "<table border=\"1\" class=\"dataframe\">\n",
       "  <thead>\n",
       "    <tr style=\"text-align: right;\">\n",
       "      <th></th>\n",
       "      <th>user_id</th>\n",
       "      <th>ISBN</th>\n",
       "      <th>rating</th>\n",
       "      <th>title</th>\n",
       "      <th>author</th>\n",
       "      <th>year</th>\n",
       "      <th>publisher</th>\n",
       "      <th>img_url</th>\n",
       "      <th>num_of_rating</th>\n",
       "    </tr>\n",
       "  </thead>\n",
       "  <tbody>\n",
       "    <tr>\n",
       "      <th>55595</th>\n",
       "      <td>142524</td>\n",
       "      <td>0451167317</td>\n",
       "      <td>0</td>\n",
       "      <td>The Dark Half</td>\n",
       "      <td>Stephen King</td>\n",
       "      <td>1994</td>\n",
       "      <td>Signet Book</td>\n",
       "      <td>http://images.amazon.com/images/P/0451167317.0...</td>\n",
       "      <td>91</td>\n",
       "    </tr>\n",
       "    <tr>\n",
       "      <th>63917</th>\n",
       "      <td>106225</td>\n",
       "      <td>0440213290</td>\n",
       "      <td>0</td>\n",
       "      <td>The Copper Beech</td>\n",
       "      <td>Maeve Binchy</td>\n",
       "      <td>1993</td>\n",
       "      <td>Dell</td>\n",
       "      <td>http://images.amazon.com/images/P/0440213290.0...</td>\n",
       "      <td>68</td>\n",
       "    </tr>\n",
       "    <tr>\n",
       "      <th>67858</th>\n",
       "      <td>200226</td>\n",
       "      <td>0060096195</td>\n",
       "      <td>0</td>\n",
       "      <td>The Boy Next Door</td>\n",
       "      <td>Meggin Cabot</td>\n",
       "      <td>2002</td>\n",
       "      <td>Avon Trade</td>\n",
       "      <td>http://images.amazon.com/images/P/0060096195.0...</td>\n",
       "      <td>55</td>\n",
       "    </tr>\n",
       "    <tr>\n",
       "      <th>75949</th>\n",
       "      <td>52584</td>\n",
       "      <td>0743410181</td>\n",
       "      <td>0</td>\n",
       "      <td>Temptation</td>\n",
       "      <td>Jude Deveraux</td>\n",
       "      <td>2001</td>\n",
       "      <td>Pocket Books</td>\n",
       "      <td>http://images.amazon.com/images/P/0743410181.0...</td>\n",
       "      <td>61</td>\n",
       "    </tr>\n",
       "    <tr>\n",
       "      <th>166260</th>\n",
       "      <td>31315</td>\n",
       "      <td>0515130966</td>\n",
       "      <td>0</td>\n",
       "      <td>Riptide</td>\n",
       "      <td>Catherine Coulter</td>\n",
       "      <td>2001</td>\n",
       "      <td>Jove Books</td>\n",
       "      <td>http://images.amazon.com/images/P/0515130966.0...</td>\n",
       "      <td>87</td>\n",
       "    </tr>\n",
       "  </tbody>\n",
       "</table>\n",
       "</div>"
      ],
      "text/plain": [
       "        user_id        ISBN  rating              title             author  \\\n",
       "55595    142524  0451167317       0      The Dark Half       Stephen King   \n",
       "63917    106225  0440213290       0   The Copper Beech       Maeve Binchy   \n",
       "67858    200226  0060096195       0  The Boy Next Door       Meggin Cabot   \n",
       "75949     52584  0743410181       0         Temptation      Jude Deveraux   \n",
       "166260    31315  0515130966       0            Riptide  Catherine Coulter   \n",
       "\n",
       "        year     publisher                                            img_url  \\\n",
       "55595   1994   Signet Book  http://images.amazon.com/images/P/0451167317.0...   \n",
       "63917   1993          Dell  http://images.amazon.com/images/P/0440213290.0...   \n",
       "67858   2002    Avon Trade  http://images.amazon.com/images/P/0060096195.0...   \n",
       "75949   2001  Pocket Books  http://images.amazon.com/images/P/0743410181.0...   \n",
       "166260  2001    Jove Books  http://images.amazon.com/images/P/0515130966.0...   \n",
       "\n",
       "        num_of_rating  \n",
       "55595              91  \n",
       "63917              68  \n",
       "67858              55  \n",
       "75949              61  \n",
       "166260             87  "
      ]
     },
     "execution_count": 263,
     "metadata": {},
     "output_type": "execute_result"
    }
   ],
   "source": [
    "# Display a random sample of 5 rows from the filtered dataset\n",
    "final_df.sample(n=5)"
   ]
  },
  {
   "cell_type": "code",
   "execution_count": 264,
   "id": "284ee588",
   "metadata": {},
   "outputs": [
    {
     "data": {
      "text/plain": [
       "user_id          2003\n",
       "ISBN             2003\n",
       "rating           2003\n",
       "title            2003\n",
       "author           2003\n",
       "year             2003\n",
       "publisher        2003\n",
       "img_url          2003\n",
       "num_of_rating    2003\n",
       "dtype: int64"
      ]
     },
     "execution_count": 264,
     "metadata": {},
     "output_type": "execute_result"
    }
   ],
   "source": [
    "# Count the number of duplicates between user_id and title\n",
    "final_df[final_df.duplicated(subset=['user_id', 'title'])].count()"
   ]
  },
  {
   "cell_type": "code",
   "execution_count": 265,
   "id": "7033fcc9",
   "metadata": {},
   "outputs": [],
   "source": [
    "# Remove duplicates based on user_id and title\n",
    "final_df.drop_duplicates(subset=['user_id', 'title'], inplace=True)"
   ]
  },
  {
   "cell_type": "code",
   "execution_count": 266,
   "id": "24b8f574",
   "metadata": {},
   "outputs": [
    {
     "data": {
      "text/plain": [
       "(59850, 9)"
      ]
     },
     "execution_count": 266,
     "metadata": {},
     "output_type": "execute_result"
    }
   ],
   "source": [
    "# Display the shape of the dataset after removing duplicates\n",
    "final_df.shape"
   ]
  },
  {
   "cell_type": "code",
   "execution_count": 303,
   "id": "b38e49c6",
   "metadata": {},
   "outputs": [],
   "source": [
    "# Create a pivot table to represent user-book interactions\n",
    "book_pivot = final_df.pivot_table(columns='user_id', index='title', values='rating')"
   ]
  },
  {
   "cell_type": "code",
   "execution_count": 304,
   "id": "e9ed589f",
   "metadata": {},
   "outputs": [
    {
     "data": {
      "text/plain": [
       "599046"
      ]
     },
     "execution_count": 304,
     "metadata": {},
     "output_type": "execute_result"
    }
   ],
   "source": [
    "# Non rated books look as NaN. They should be 0\n",
    "book_pivot.isna().sum().sum() "
   ]
  },
  {
   "cell_type": "code",
   "execution_count": 305,
   "id": "bf91f270",
   "metadata": {
    "scrolled": true
   },
   "outputs": [
    {
     "data": {
      "text/html": [
       "<div>\n",
       "<style scoped>\n",
       "    .dataframe tbody tr th:only-of-type {\n",
       "        vertical-align: middle;\n",
       "    }\n",
       "\n",
       "    .dataframe tbody tr th {\n",
       "        vertical-align: top;\n",
       "    }\n",
       "\n",
       "    .dataframe thead th {\n",
       "        text-align: right;\n",
       "    }\n",
       "</style>\n",
       "<table border=\"1\" class=\"dataframe\">\n",
       "  <thead>\n",
       "    <tr style=\"text-align: right;\">\n",
       "      <th>user_id</th>\n",
       "      <th>254</th>\n",
       "      <th>2276</th>\n",
       "      <th>2766</th>\n",
       "      <th>2977</th>\n",
       "      <th>3363</th>\n",
       "      <th>3757</th>\n",
       "      <th>4017</th>\n",
       "      <th>4385</th>\n",
       "      <th>6242</th>\n",
       "      <th>6251</th>\n",
       "      <th>...</th>\n",
       "      <th>274004</th>\n",
       "      <th>274061</th>\n",
       "      <th>274301</th>\n",
       "      <th>274308</th>\n",
       "      <th>274808</th>\n",
       "      <th>275970</th>\n",
       "      <th>277427</th>\n",
       "      <th>277478</th>\n",
       "      <th>277639</th>\n",
       "      <th>278418</th>\n",
       "    </tr>\n",
       "    <tr>\n",
       "      <th>title</th>\n",
       "      <th></th>\n",
       "      <th></th>\n",
       "      <th></th>\n",
       "      <th></th>\n",
       "      <th></th>\n",
       "      <th></th>\n",
       "      <th></th>\n",
       "      <th></th>\n",
       "      <th></th>\n",
       "      <th></th>\n",
       "      <th></th>\n",
       "      <th></th>\n",
       "      <th></th>\n",
       "      <th></th>\n",
       "      <th></th>\n",
       "      <th></th>\n",
       "      <th></th>\n",
       "      <th></th>\n",
       "      <th></th>\n",
       "      <th></th>\n",
       "      <th></th>\n",
       "    </tr>\n",
       "  </thead>\n",
       "  <tbody>\n",
       "    <tr>\n",
       "      <th>1984</th>\n",
       "      <td>9.0</td>\n",
       "      <td>NaN</td>\n",
       "      <td>NaN</td>\n",
       "      <td>NaN</td>\n",
       "      <td>NaN</td>\n",
       "      <td>NaN</td>\n",
       "      <td>NaN</td>\n",
       "      <td>NaN</td>\n",
       "      <td>NaN</td>\n",
       "      <td>NaN</td>\n",
       "      <td>...</td>\n",
       "      <td>NaN</td>\n",
       "      <td>NaN</td>\n",
       "      <td>NaN</td>\n",
       "      <td>NaN</td>\n",
       "      <td>NaN</td>\n",
       "      <td>0.0</td>\n",
       "      <td>NaN</td>\n",
       "      <td>NaN</td>\n",
       "      <td>NaN</td>\n",
       "      <td>NaN</td>\n",
       "    </tr>\n",
       "    <tr>\n",
       "      <th>1st to Die: A Novel</th>\n",
       "      <td>NaN</td>\n",
       "      <td>NaN</td>\n",
       "      <td>NaN</td>\n",
       "      <td>NaN</td>\n",
       "      <td>NaN</td>\n",
       "      <td>NaN</td>\n",
       "      <td>NaN</td>\n",
       "      <td>NaN</td>\n",
       "      <td>NaN</td>\n",
       "      <td>NaN</td>\n",
       "      <td>...</td>\n",
       "      <td>NaN</td>\n",
       "      <td>NaN</td>\n",
       "      <td>NaN</td>\n",
       "      <td>NaN</td>\n",
       "      <td>NaN</td>\n",
       "      <td>NaN</td>\n",
       "      <td>NaN</td>\n",
       "      <td>NaN</td>\n",
       "      <td>NaN</td>\n",
       "      <td>NaN</td>\n",
       "    </tr>\n",
       "  </tbody>\n",
       "</table>\n",
       "<p>2 rows × 888 columns</p>\n",
       "</div>"
      ],
      "text/plain": [
       "user_id              254     2276    2766    2977    3363    3757    4017    \\\n",
       "title                                                                         \n",
       "1984                    9.0     NaN     NaN     NaN     NaN     NaN     NaN   \n",
       "1st to Die: A Novel     NaN     NaN     NaN     NaN     NaN     NaN     NaN   \n",
       "\n",
       "user_id              4385    6242    6251    ...  274004  274061  274301  \\\n",
       "title                                        ...                           \n",
       "1984                    NaN     NaN     NaN  ...     NaN     NaN     NaN   \n",
       "1st to Die: A Novel     NaN     NaN     NaN  ...     NaN     NaN     NaN   \n",
       "\n",
       "user_id              274308  274808  275970  277427  277478  277639  278418  \n",
       "title                                                                        \n",
       "1984                    NaN     NaN     0.0     NaN     NaN     NaN     NaN  \n",
       "1st to Die: A Novel     NaN     NaN     NaN     NaN     NaN     NaN     NaN  \n",
       "\n",
       "[2 rows x 888 columns]"
      ]
     },
     "execution_count": 305,
     "metadata": {},
     "output_type": "execute_result"
    }
   ],
   "source": [
    "book_pivot.head(2)"
   ]
  },
  {
   "cell_type": "code",
   "execution_count": 306,
   "id": "8c416957",
   "metadata": {},
   "outputs": [],
   "source": [
    "# Fill missing values with 0 in the pivot table\n",
    "book_pivot.fillna(0, inplace=True)"
   ]
  },
  {
   "cell_type": "code",
   "execution_count": 307,
   "id": "5d7bad2c",
   "metadata": {
    "scrolled": true
   },
   "outputs": [
    {
     "data": {
      "text/html": [
       "<div>\n",
       "<style scoped>\n",
       "    .dataframe tbody tr th:only-of-type {\n",
       "        vertical-align: middle;\n",
       "    }\n",
       "\n",
       "    .dataframe tbody tr th {\n",
       "        vertical-align: top;\n",
       "    }\n",
       "\n",
       "    .dataframe thead th {\n",
       "        text-align: right;\n",
       "    }\n",
       "</style>\n",
       "<table border=\"1\" class=\"dataframe\">\n",
       "  <thead>\n",
       "    <tr style=\"text-align: right;\">\n",
       "      <th>user_id</th>\n",
       "      <th>254</th>\n",
       "      <th>2276</th>\n",
       "      <th>2766</th>\n",
       "      <th>2977</th>\n",
       "      <th>3363</th>\n",
       "      <th>3757</th>\n",
       "      <th>4017</th>\n",
       "      <th>4385</th>\n",
       "      <th>6242</th>\n",
       "      <th>6251</th>\n",
       "      <th>...</th>\n",
       "      <th>274004</th>\n",
       "      <th>274061</th>\n",
       "      <th>274301</th>\n",
       "      <th>274308</th>\n",
       "      <th>274808</th>\n",
       "      <th>275970</th>\n",
       "      <th>277427</th>\n",
       "      <th>277478</th>\n",
       "      <th>277639</th>\n",
       "      <th>278418</th>\n",
       "    </tr>\n",
       "    <tr>\n",
       "      <th>title</th>\n",
       "      <th></th>\n",
       "      <th></th>\n",
       "      <th></th>\n",
       "      <th></th>\n",
       "      <th></th>\n",
       "      <th></th>\n",
       "      <th></th>\n",
       "      <th></th>\n",
       "      <th></th>\n",
       "      <th></th>\n",
       "      <th></th>\n",
       "      <th></th>\n",
       "      <th></th>\n",
       "      <th></th>\n",
       "      <th></th>\n",
       "      <th></th>\n",
       "      <th></th>\n",
       "      <th></th>\n",
       "      <th></th>\n",
       "      <th></th>\n",
       "      <th></th>\n",
       "    </tr>\n",
       "  </thead>\n",
       "  <tbody>\n",
       "    <tr>\n",
       "      <th>1984</th>\n",
       "      <td>9.0</td>\n",
       "      <td>0.0</td>\n",
       "      <td>0.0</td>\n",
       "      <td>0.0</td>\n",
       "      <td>0.0</td>\n",
       "      <td>0.0</td>\n",
       "      <td>0.0</td>\n",
       "      <td>0.0</td>\n",
       "      <td>0.0</td>\n",
       "      <td>0.0</td>\n",
       "      <td>...</td>\n",
       "      <td>0.0</td>\n",
       "      <td>0.0</td>\n",
       "      <td>0.0</td>\n",
       "      <td>0.0</td>\n",
       "      <td>0.0</td>\n",
       "      <td>0.0</td>\n",
       "      <td>0.0</td>\n",
       "      <td>0.0</td>\n",
       "      <td>0.0</td>\n",
       "      <td>0.0</td>\n",
       "    </tr>\n",
       "    <tr>\n",
       "      <th>1st to Die: A Novel</th>\n",
       "      <td>0.0</td>\n",
       "      <td>0.0</td>\n",
       "      <td>0.0</td>\n",
       "      <td>0.0</td>\n",
       "      <td>0.0</td>\n",
       "      <td>0.0</td>\n",
       "      <td>0.0</td>\n",
       "      <td>0.0</td>\n",
       "      <td>0.0</td>\n",
       "      <td>0.0</td>\n",
       "      <td>...</td>\n",
       "      <td>0.0</td>\n",
       "      <td>0.0</td>\n",
       "      <td>0.0</td>\n",
       "      <td>0.0</td>\n",
       "      <td>0.0</td>\n",
       "      <td>0.0</td>\n",
       "      <td>0.0</td>\n",
       "      <td>0.0</td>\n",
       "      <td>0.0</td>\n",
       "      <td>0.0</td>\n",
       "    </tr>\n",
       "  </tbody>\n",
       "</table>\n",
       "<p>2 rows × 888 columns</p>\n",
       "</div>"
      ],
      "text/plain": [
       "user_id              254     2276    2766    2977    3363    3757    4017    \\\n",
       "title                                                                         \n",
       "1984                    9.0     0.0     0.0     0.0     0.0     0.0     0.0   \n",
       "1st to Die: A Novel     0.0     0.0     0.0     0.0     0.0     0.0     0.0   \n",
       "\n",
       "user_id              4385    6242    6251    ...  274004  274061  274301  \\\n",
       "title                                        ...                           \n",
       "1984                    0.0     0.0     0.0  ...     0.0     0.0     0.0   \n",
       "1st to Die: A Novel     0.0     0.0     0.0  ...     0.0     0.0     0.0   \n",
       "\n",
       "user_id              274308  274808  275970  277427  277478  277639  278418  \n",
       "title                                                                        \n",
       "1984                    0.0     0.0     0.0     0.0     0.0     0.0     0.0  \n",
       "1st to Die: A Novel     0.0     0.0     0.0     0.0     0.0     0.0     0.0  \n",
       "\n",
       "[2 rows x 888 columns]"
      ]
     },
     "execution_count": 307,
     "metadata": {},
     "output_type": "execute_result"
    }
   ],
   "source": [
    "book_pivot.head(2)"
   ]
  },
  {
   "cell_type": "markdown",
   "id": "64453959",
   "metadata": {},
   "source": [
    "## MODELING"
   ]
  },
  {
   "cell_type": "code",
   "execution_count": 269,
   "id": "1487b237",
   "metadata": {},
   "outputs": [],
   "source": [
    "'''\n",
    "The utilization of a Compressed Sparse Row (CSR) matrix is crucial in this pivot table due to the prevalence of zero values. \n",
    "This matrix efficiently stores only the non-zero values, resulting in memory savings and faster computation.\n",
    "'''\n",
    "\n",
    "# Create a Compressed Sparse Row (CSR) matrix to store non-zero values efficiently\n",
    "book_sparse = csr_matrix(book_pivot)"
   ]
  },
  {
   "cell_type": "code",
   "execution_count": 308,
   "id": "0450875f",
   "metadata": {},
   "outputs": [
    {
     "data": {
      "text/plain": [
       "<742x888 sparse matrix of type '<class 'numpy.float64'>'\n",
       "\twith 14942 stored elements in Compressed Sparse Row format>"
      ]
     },
     "execution_count": 308,
     "metadata": {},
     "output_type": "execute_result"
    }
   ],
   "source": [
    "'''\n",
    "Output Explanation: The presented matrix is of size 742x888 and follows the Compressed Sparse Row format. \n",
    "It contains a total of 14942 stored elements, with each element having the data type 'numpy.float64'.\n",
    "'''\n",
    "\n",
    "book_sparse"
   ]
  },
  {
   "cell_type": "code",
   "execution_count": 270,
   "id": "9c2e2e3e",
   "metadata": {},
   "outputs": [],
   "source": [
    "'''\n",
    "Algorithm Choice - \"brute\": When the \"brute\" algorithm is employed, the Nearest Neighbors algorithm performs \n",
    "a direct calculation of distances between each data point in the dataset to identify the nearest neighbors. \n",
    "This approach, while conceptually straightforward, can become computationally demanding, especially with larger datasets. \n",
    "It involves a comprehensive examination of all data points and distance calculations, \n",
    "lacking specific data structures or optimizations to expedite the process.\n",
    "\n",
    "'''\n",
    "\n",
    "# Create a nearest neighbors model using the 'brute' algorithm\n",
    "model = NearestNeighbors(algorithm='brute')"
   ]
  },
  {
   "cell_type": "code",
   "execution_count": 316,
   "id": "f838aa0d",
   "metadata": {
    "scrolled": true
   },
   "outputs": [
    {
     "name": "stdout",
     "output_type": "stream",
     "text": [
      "Distances:   [[ 0.         68.78953409 69.5413546  72.64296249 76.83098333 77.28518616]]\n",
      "Suggestions: [[237 240 238 241 184 536]]\n"
     ]
    }
   ],
   "source": [
    "'''\n",
    "---------------------------------------------------------------------\n",
    "## distance = array([[0.0, 68.78953409, 69.5413546, 72.64296249, 76.83098333, 77.28518616]]):\n",
    "\n",
    "* distance is an array showing the distances between the selected book (at index 237) and its 6 closest neighbors.\n",
    "* The initial value, 0.0, represents the distance to itself.\n",
    "* The subsequent values represent distances to other nearest books.\n",
    "----------------------------------------------------------------------\n",
    "\n",
    "## suggestion = array([[237, 240, 238, 241, 184, 536]], dtype=int64):\n",
    "\n",
    "* suggestion is an array providing the indices of the selected book's 6 nearest neighbors in the original dataset.\n",
    "* The indices, such as 237, 240, etc., indicate which books are the nearest neighbors.\n",
    "----------------------------------------------------------------------\n",
    "\n",
    "## About (1,-1):\n",
    "\n",
    "* The code book_pivot.iloc[237, :].values.reshape(1,-1) prepares the data of the book at index 237 for input into the model.kneighbors() method.\n",
    "* book_pivot.iloc[237, :] selects the relevant row from the book_pivot DataFrame.\n",
    "* .values transforms the row into a NumPy array.\n",
    "* .reshape(1, -1) reshapes the array into a single row with a dynamically calculated number of columns based on the original shape.\n",
    "'''\n",
    "\n",
    "\n",
    "# Fit the model using the sparse matrix\n",
    "model.fit(book_sparse)\n",
    "\n",
    "# Find the 6 nearest neighbors for a specific book\n",
    "distance, suggestion = model.kneighbors(book_pivot.iloc[237, :].values.reshape(1, -1), n_neighbors=6)\n",
    "\n",
    "print(f'Distances:   {distance}')\n",
    "print(f'Suggestions: {suggestion}')"
   ]
  },
  {
   "cell_type": "code",
   "execution_count": 317,
   "id": "30591eb7",
   "metadata": {},
   "outputs": [
    {
     "name": "stdout",
     "output_type": "stream",
     "text": [
      "Index(['Harry Potter and the Chamber of Secrets (Book 2)',\n",
      "       'Harry Potter and the Prisoner of Azkaban (Book 3)',\n",
      "       'Harry Potter and the Goblet of Fire (Book 4)',\n",
      "       'Harry Potter and the Sorcerer's Stone (Book 1)', 'Exclusive',\n",
      "       'The Cradle Will Fall'],\n",
      "      dtype='object', name='title')\n"
     ]
    }
   ],
   "source": [
    "# Print the book titles of the suggested books\n",
    "for i in range(len(suggestion)):\n",
    "    print(book_pivot.index[suggestion[i]])"
   ]
  },
  {
   "cell_type": "code",
   "execution_count": 276,
   "id": "92ca5512",
   "metadata": {},
   "outputs": [],
   "source": [
    "# Store the book titles in a variable\n",
    "book_names = book_pivot.index"
   ]
  },
  {
   "cell_type": "code",
   "execution_count": 277,
   "id": "d00a7074",
   "metadata": {},
   "outputs": [
    {
     "data": {
      "text/html": [
       "<div>\n",
       "<style scoped>\n",
       "    .dataframe tbody tr th:only-of-type {\n",
       "        vertical-align: middle;\n",
       "    }\n",
       "\n",
       "    .dataframe tbody tr th {\n",
       "        vertical-align: top;\n",
       "    }\n",
       "\n",
       "    .dataframe thead th {\n",
       "        text-align: right;\n",
       "    }\n",
       "</style>\n",
       "<table border=\"1\" class=\"dataframe\">\n",
       "  <thead>\n",
       "    <tr style=\"text-align: right;\">\n",
       "      <th></th>\n",
       "      <th>user_id</th>\n",
       "      <th>ISBN</th>\n",
       "      <th>rating</th>\n",
       "      <th>title</th>\n",
       "      <th>author</th>\n",
       "      <th>year</th>\n",
       "      <th>publisher</th>\n",
       "      <th>img_url</th>\n",
       "      <th>num_of_rating</th>\n",
       "    </tr>\n",
       "  </thead>\n",
       "  <tbody>\n",
       "    <tr>\n",
       "      <th>0</th>\n",
       "      <td>277427</td>\n",
       "      <td>002542730X</td>\n",
       "      <td>10</td>\n",
       "      <td>Politically Correct Bedtime Stories: Modern Ta...</td>\n",
       "      <td>James Finn Garner</td>\n",
       "      <td>1994</td>\n",
       "      <td>John Wiley &amp;amp; Sons Inc</td>\n",
       "      <td>http://images.amazon.com/images/P/002542730X.0...</td>\n",
       "      <td>82</td>\n",
       "    </tr>\n",
       "    <tr>\n",
       "      <th>1</th>\n",
       "      <td>3363</td>\n",
       "      <td>002542730X</td>\n",
       "      <td>0</td>\n",
       "      <td>Politically Correct Bedtime Stories: Modern Ta...</td>\n",
       "      <td>James Finn Garner</td>\n",
       "      <td>1994</td>\n",
       "      <td>John Wiley &amp;amp; Sons Inc</td>\n",
       "      <td>http://images.amazon.com/images/P/002542730X.0...</td>\n",
       "      <td>82</td>\n",
       "    </tr>\n",
       "  </tbody>\n",
       "</table>\n",
       "</div>"
      ],
      "text/plain": [
       "   user_id        ISBN  rating  \\\n",
       "0   277427  002542730X      10   \n",
       "1     3363  002542730X       0   \n",
       "\n",
       "                                               title             author  year  \\\n",
       "0  Politically Correct Bedtime Stories: Modern Ta...  James Finn Garner  1994   \n",
       "1  Politically Correct Bedtime Stories: Modern Ta...  James Finn Garner  1994   \n",
       "\n",
       "                   publisher  \\\n",
       "0  John Wiley &amp; Sons Inc   \n",
       "1  John Wiley &amp; Sons Inc   \n",
       "\n",
       "                                             img_url  num_of_rating  \n",
       "0  http://images.amazon.com/images/P/002542730X.0...             82  \n",
       "1  http://images.amazon.com/images/P/002542730X.0...             82  "
      ]
     },
     "execution_count": 277,
     "metadata": {},
     "output_type": "execute_result"
    }
   ],
   "source": [
    "final_df.head(2)"
   ]
  },
  {
   "cell_type": "code",
   "execution_count": 278,
   "id": "78c78bd4",
   "metadata": {},
   "outputs": [
    {
     "data": {
      "text/html": [
       "<div>\n",
       "<style scoped>\n",
       "    .dataframe tbody tr th:only-of-type {\n",
       "        vertical-align: middle;\n",
       "    }\n",
       "\n",
       "    .dataframe tbody tr th {\n",
       "        vertical-align: top;\n",
       "    }\n",
       "\n",
       "    .dataframe thead th {\n",
       "        text-align: right;\n",
       "    }\n",
       "</style>\n",
       "<table border=\"1\" class=\"dataframe\">\n",
       "  <thead>\n",
       "    <tr style=\"text-align: right;\">\n",
       "      <th>user_id</th>\n",
       "      <th>254</th>\n",
       "      <th>2276</th>\n",
       "      <th>2766</th>\n",
       "      <th>2977</th>\n",
       "      <th>3363</th>\n",
       "      <th>3757</th>\n",
       "      <th>4017</th>\n",
       "      <th>4385</th>\n",
       "      <th>6242</th>\n",
       "      <th>6251</th>\n",
       "      <th>...</th>\n",
       "      <th>274004</th>\n",
       "      <th>274061</th>\n",
       "      <th>274301</th>\n",
       "      <th>274308</th>\n",
       "      <th>274808</th>\n",
       "      <th>275970</th>\n",
       "      <th>277427</th>\n",
       "      <th>277478</th>\n",
       "      <th>277639</th>\n",
       "      <th>278418</th>\n",
       "    </tr>\n",
       "    <tr>\n",
       "      <th>title</th>\n",
       "      <th></th>\n",
       "      <th></th>\n",
       "      <th></th>\n",
       "      <th></th>\n",
       "      <th></th>\n",
       "      <th></th>\n",
       "      <th></th>\n",
       "      <th></th>\n",
       "      <th></th>\n",
       "      <th></th>\n",
       "      <th></th>\n",
       "      <th></th>\n",
       "      <th></th>\n",
       "      <th></th>\n",
       "      <th></th>\n",
       "      <th></th>\n",
       "      <th></th>\n",
       "      <th></th>\n",
       "      <th></th>\n",
       "      <th></th>\n",
       "      <th></th>\n",
       "    </tr>\n",
       "  </thead>\n",
       "  <tbody>\n",
       "    <tr>\n",
       "      <th>1984</th>\n",
       "      <td>9.0</td>\n",
       "      <td>0.0</td>\n",
       "      <td>0.0</td>\n",
       "      <td>0.0</td>\n",
       "      <td>0.0</td>\n",
       "      <td>0.0</td>\n",
       "      <td>0.0</td>\n",
       "      <td>0.0</td>\n",
       "      <td>0.0</td>\n",
       "      <td>0.0</td>\n",
       "      <td>...</td>\n",
       "      <td>0.0</td>\n",
       "      <td>0.0</td>\n",
       "      <td>0.0</td>\n",
       "      <td>0.0</td>\n",
       "      <td>0.0</td>\n",
       "      <td>0.0</td>\n",
       "      <td>0.0</td>\n",
       "      <td>0.0</td>\n",
       "      <td>0.0</td>\n",
       "      <td>0.0</td>\n",
       "    </tr>\n",
       "    <tr>\n",
       "      <th>1st to Die: A Novel</th>\n",
       "      <td>0.0</td>\n",
       "      <td>0.0</td>\n",
       "      <td>0.0</td>\n",
       "      <td>0.0</td>\n",
       "      <td>0.0</td>\n",
       "      <td>0.0</td>\n",
       "      <td>0.0</td>\n",
       "      <td>0.0</td>\n",
       "      <td>0.0</td>\n",
       "      <td>0.0</td>\n",
       "      <td>...</td>\n",
       "      <td>0.0</td>\n",
       "      <td>0.0</td>\n",
       "      <td>0.0</td>\n",
       "      <td>0.0</td>\n",
       "      <td>0.0</td>\n",
       "      <td>0.0</td>\n",
       "      <td>0.0</td>\n",
       "      <td>0.0</td>\n",
       "      <td>0.0</td>\n",
       "      <td>0.0</td>\n",
       "    </tr>\n",
       "  </tbody>\n",
       "</table>\n",
       "<p>2 rows × 888 columns</p>\n",
       "</div>"
      ],
      "text/plain": [
       "user_id              254     2276    2766    2977    3363    3757    4017    \\\n",
       "title                                                                         \n",
       "1984                    9.0     0.0     0.0     0.0     0.0     0.0     0.0   \n",
       "1st to Die: A Novel     0.0     0.0     0.0     0.0     0.0     0.0     0.0   \n",
       "\n",
       "user_id              4385    6242    6251    ...  274004  274061  274301  \\\n",
       "title                                        ...                           \n",
       "1984                    0.0     0.0     0.0  ...     0.0     0.0     0.0   \n",
       "1st to Die: A Novel     0.0     0.0     0.0  ...     0.0     0.0     0.0   \n",
       "\n",
       "user_id              274308  274808  275970  277427  277478  277639  278418  \n",
       "title                                                                        \n",
       "1984                    0.0     0.0     0.0     0.0     0.0     0.0     0.0  \n",
       "1st to Die: A Novel     0.0     0.0     0.0     0.0     0.0     0.0     0.0  \n",
       "\n",
       "[2 rows x 888 columns]"
      ]
     },
     "execution_count": 278,
     "metadata": {},
     "output_type": "execute_result"
    }
   ],
   "source": [
    "# Display the first two rows of the pivot table\n",
    "book_pivot.head(2)"
   ]
  },
  {
   "cell_type": "code",
   "execution_count": 279,
   "id": "c063d625",
   "metadata": {},
   "outputs": [],
   "source": [
    "# Create a directory 'artifacts' if it doesn't exist\n",
    "if not os.path.exists('artifacts'):\n",
    "    os.makedirs('artifacts')"
   ]
  },
  {
   "cell_type": "code",
   "execution_count": 280,
   "id": "64dc3b3d",
   "metadata": {},
   "outputs": [],
   "source": [
    "# Save the model, book names, final dataset, and pivot table to pickle files\n",
    "pickle.dump(model, open('artifacts/model.pkl', 'wb'))\n",
    "pickle.dump(book_names, open('artifacts/book_names.pkl', 'wb'))\n",
    "pickle.dump(final_df, open('artifacts/final_df.pkl', 'wb'))\n",
    "pickle.dump(book_pivot, open('artifacts/book_pivot.pkl', 'wb'))"
   ]
  },
  {
   "cell_type": "code",
   "execution_count": 281,
   "id": "ee0a52b5",
   "metadata": {},
   "outputs": [],
   "source": [
    "# Define a function to recommend books based on a book's title\n",
    "def recommend_book(book_name):\n",
    "    book_id = np.where(book_pivot.index == book_name)[0][0]\n",
    "    distance, suggestion = model.kneighbors(book_pivot.iloc[book_id, :].values.reshape(1, -1), n_neighbors=6)\n",
    "    \n",
    "    for i in range(len(suggestion)):\n",
    "        books = book_pivot.index[suggestion[i]]\n",
    "        for j in books:\n",
    "            print(j)\n",
    "            \n",
    "\"\"\"\n",
    "book_id = np.where(book_pivot.index == 'The Cradle Will Fall')\n",
    "book_id\n",
    "output: (array([536], dtype=int64),)\n",
    "#####################################\n",
    "\n",
    "book_id[0]\n",
    "output: array([536], dtype=int64)\n",
    "###################################\n",
    "\n",
    "book_id[0][0]\n",
    "output: 536\n",
    "\n",
    "\"\"\""
   ]
  },
  {
   "cell_type": "code",
   "execution_count": 327,
   "id": "417e2980",
   "metadata": {},
   "outputs": [
    {
     "name": "stdout",
     "output_type": "stream",
     "text": [
      "[[  2 609 184 562 697 311]]\n",
      "[  2 609 184 562 697 311]\n",
      "2\n",
      "609\n",
      "184\n",
      "562\n",
      "697\n",
      "311\n"
     ]
    }
   ],
   "source": [
    "#### This cell, made for to understand better what we did in the previous cell.  ######\n",
    "\n",
    "def book_tryout(book_name):\n",
    "    book_id = np.where(book_pivot.index == book_name)[0][0]\n",
    "    distance, suggestion = model.kneighbors(book_pivot.iloc[book_id, :].values.reshape(1,-1), n_neighbors=6)\n",
    "    \n",
    "    return suggestion\n",
    "\n",
    "\n",
    "array  = book_tryout(\"2nd Chance\")\n",
    "print(array)\n",
    "for zort in array:\n",
    "    print(zort)\n",
    "    for j in zort:\n",
    "        print(j)\n",
    "        \n",
    "#########################################################################################"
   ]
  },
  {
   "cell_type": "code",
   "execution_count": 284,
   "id": "bc1a29d5",
   "metadata": {},
   "outputs": [
    {
     "data": {
      "text/html": [
       "<div>\n",
       "<style scoped>\n",
       "    .dataframe tbody tr th:only-of-type {\n",
       "        vertical-align: middle;\n",
       "    }\n",
       "\n",
       "    .dataframe tbody tr th {\n",
       "        vertical-align: top;\n",
       "    }\n",
       "\n",
       "    .dataframe thead th {\n",
       "        text-align: right;\n",
       "    }\n",
       "</style>\n",
       "<table border=\"1\" class=\"dataframe\">\n",
       "  <thead>\n",
       "    <tr style=\"text-align: right;\">\n",
       "      <th></th>\n",
       "      <th>0</th>\n",
       "      <th>1</th>\n",
       "      <th>2</th>\n",
       "      <th>3</th>\n",
       "      <th>4</th>\n",
       "      <th>5</th>\n",
       "      <th>6</th>\n",
       "      <th>7</th>\n",
       "      <th>8</th>\n",
       "      <th>9</th>\n",
       "      <th>...</th>\n",
       "      <th>878</th>\n",
       "      <th>879</th>\n",
       "      <th>880</th>\n",
       "      <th>881</th>\n",
       "      <th>882</th>\n",
       "      <th>883</th>\n",
       "      <th>884</th>\n",
       "      <th>885</th>\n",
       "      <th>886</th>\n",
       "      <th>887</th>\n",
       "    </tr>\n",
       "  </thead>\n",
       "  <tbody>\n",
       "    <tr>\n",
       "      <th>0</th>\n",
       "      <td>0.0</td>\n",
       "      <td>0.0</td>\n",
       "      <td>0.0</td>\n",
       "      <td>0.0</td>\n",
       "      <td>0.0</td>\n",
       "      <td>0.0</td>\n",
       "      <td>0.0</td>\n",
       "      <td>0.0</td>\n",
       "      <td>0.0</td>\n",
       "      <td>0.0</td>\n",
       "      <td>...</td>\n",
       "      <td>0.0</td>\n",
       "      <td>0.0</td>\n",
       "      <td>0.0</td>\n",
       "      <td>0.0</td>\n",
       "      <td>0.0</td>\n",
       "      <td>0.0</td>\n",
       "      <td>0.0</td>\n",
       "      <td>0.0</td>\n",
       "      <td>0.0</td>\n",
       "      <td>0.0</td>\n",
       "    </tr>\n",
       "  </tbody>\n",
       "</table>\n",
       "<p>1 rows × 888 columns</p>\n",
       "</div>"
      ],
      "text/plain": [
       "   0    1    2    3    4    5    6    7    8    9    ...  878  879  880  881  \\\n",
       "0  0.0  0.0  0.0  0.0  0.0  0.0  0.0  0.0  0.0  0.0  ...  0.0  0.0  0.0  0.0   \n",
       "\n",
       "   882  883  884  885  886  887  \n",
       "0  0.0  0.0  0.0  0.0  0.0  0.0  \n",
       "\n",
       "[1 rows x 888 columns]"
      ]
     },
     "execution_count": 284,
     "metadata": {},
     "output_type": "execute_result"
    }
   ],
   "source": [
    "df1 = pd.DataFrame(book_pivot.iloc[100, :].values.reshape(1,-1))\n",
    "df1 "
   ]
  },
  {
   "cell_type": "code",
   "execution_count": 328,
   "id": "3caa5ef5",
   "metadata": {},
   "outputs": [
    {
     "name": "stdout",
     "output_type": "stream",
     "text": [
      "A Bend in the Road\n",
      "Exclusive\n",
      "The Cradle Will Fall\n",
      "No Safe Place\n",
      "Family Album\n",
      "Last Man Standing\n"
     ]
    }
   ],
   "source": [
    "'''\n",
    "The presence of the input book's name in the recommendations is a result of the model's behavior. \n",
    "The model, driven by distances, designates the book at index 0 as the closest item. \n",
    "As a result, the input book is invariably included in the recommendations.\n",
    "'''\n",
    "\n",
    "book_name = \"A Bend in the Road\"\n",
    "recommend_book(book_name=book_name)"
   ]
  },
  {
   "cell_type": "code",
   "execution_count": null,
   "id": "16c4926d",
   "metadata": {},
   "outputs": [],
   "source": []
  }
 ],
 "metadata": {
  "kernelspec": {
   "display_name": "Python 3 (ipykernel)",
   "language": "python",
   "name": "python3"
  },
  "language_info": {
   "codemirror_mode": {
    "name": "ipython",
    "version": 3
   },
   "file_extension": ".py",
   "mimetype": "text/x-python",
   "name": "python",
   "nbconvert_exporter": "python",
   "pygments_lexer": "ipython3",
   "version": "3.9.18"
  },
  "varInspector": {
   "cols": {
    "lenName": 16,
    "lenType": 16,
    "lenVar": 40
   },
   "kernels_config": {
    "python": {
     "delete_cmd_postfix": "",
     "delete_cmd_prefix": "del ",
     "library": "var_list.py",
     "varRefreshCmd": "print(var_dic_list())"
    },
    "r": {
     "delete_cmd_postfix": ") ",
     "delete_cmd_prefix": "rm(",
     "library": "var_list.r",
     "varRefreshCmd": "cat(var_dic_list()) "
    }
   },
   "types_to_exclude": [
    "module",
    "function",
    "builtin_function_or_method",
    "instance",
    "_Feature"
   ],
   "window_display": false
  }
 },
 "nbformat": 4,
 "nbformat_minor": 5
}
